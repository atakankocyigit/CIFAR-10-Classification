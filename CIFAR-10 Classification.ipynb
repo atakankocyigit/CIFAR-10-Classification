{
 "cells": [
  {
   "cell_type": "code",
   "execution_count": null,
   "metadata": {
    "id": "vvEeJf1evS5v"
   },
   "outputs": [],
   "source": [
    "import numpy as np\n",
    "import keras\n",
    "import pandas as pd\n",
    "from keras.datasets import cifar10\n",
    "from keras.models import Sequential\n",
    "from keras.layers import Dense, Dropout, Flatten, Conv2D, MaxPooling2D, AveragePooling2D\n",
    "from keras import backend as K\n",
    "from keras.utils.np_utils import to_categorical \n",
    "from keras.layers import BatchNormalization\n",
    "from keras.preprocessing.image import ImageDataGenerator\n",
    "from keras.models import Model\n",
    "import matplotlib.pyplot as plt\n",
    "import warnings\n",
    "from matplotlib import pyplot\n",
    "import seaborn as sns\n",
    "from sklearn.model_selection import train_test_split\n",
    "from keras.optimizers import Adam\n",
    "from sklearn.metrics import multilabel_confusion_matrix\n",
    "warnings.filterwarnings('ignore')"
   ]
  },
  {
   "cell_type": "markdown",
   "metadata": {
    "id": "W9GnqtY5j5EH"
   },
   "source": [
    "# Preprocess"
   ]
  },
  {
   "cell_type": "code",
   "execution_count": null,
   "metadata": {
    "colab": {
     "base_uri": "https://localhost:8080/",
     "height": 248
    },
    "id": "ltS-THSVvXBU",
    "outputId": "0914cad8-7a9a-4886-c5b1-16e70a4f3cf9"
   },
   "outputs": [
    {
     "data": {
      "image/png": "[encoded data removed]",
      "text/plain": [
       "<Figure size 432x288 with 1 Axes>"
      ]
     },
     "metadata": {
      "needs_background": "light",
      "tags": []
     },
     "output_type": "display_data"
    }
   ],
   "source": [
    "# input image dimensions\n",
    "img_rows, img_cols = 32, 32\n",
    "num_classes = 10\n",
    "# the data, shuffled and split between train and test sets\n",
    "(x_train, y_train), (x_test, y_test) = cifar10.load_data()\n",
    "\n",
    "x_train, x_val, y_train, y_val = train_test_split(x_train, y_train, test_size=0.2, random_state=42)\n",
    "\n",
    "x_train.shape\n",
    "img = x_train[5]\n",
    "plt.imshow(img)\n",
    "plt.axis(\"off\")\n",
    "plt.show()"
   ]
  },
  {
   "cell_type": "code",
   "execution_count": null,
   "metadata": {
    "id": "ldkRpWCxvXFj"
   },
   "outputs": [],
   "source": [
    "x_train = x_train.reshape(x_train.shape[0], img_rows, img_cols,3)\n",
    "x_test = x_test.reshape(x_test.shape[0], img_rows, img_cols, 3)\n",
    "x_val = x_val.reshape(x_val.shape[0], img_rows, img_cols, 3)\n",
    "input_shape = (img_rows, img_cols, 3)\n",
    "\n",
    "x_train = x_train.astype('float32')\n",
    "x_test = x_test.astype('float32')\n",
    "x_val = x_val.astype('float32')\n",
    "\n",
    "x_train /= 255.0\n",
    "x_test /= 255.0\n",
    "x_val /= 255.0\n",
    "\n",
    "y_train = keras.utils.to_categorical(y_train, num_classes)\n",
    "y_test = keras.utils.to_categorical(y_test, num_classes)\n",
    "y_val = keras.utils.to_categorical(y_val, num_classes)"
   ]
  },
  {
   "cell_type": "markdown",
   "metadata": {
    "id": "ywNbvSaA0OAN"
   },
   "source": [
    "# Model Performance Functions"
   ]
  },
  {
   "cell_type": "code",
   "execution_count": null,
   "metadata": {
    "id": "Z3jHxpZD0Q3-"
   },
   "outputs": [],
   "source": [
    "def evaluate(cnn_model):\n",
    "  scoreTrain = cnn_model.evaluate(x_train, y_train, verbose=1)\n",
    "  print('Train loss:', scoreTrain[0])\n",
    "  print('Train accuracy:', scoreTrain[1])\n",
    "\n",
    "  scoreVal = cnn_model.evaluate(x_val, y_val, verbose=1)\n",
    "  print('Validation loss:', scoreVal[0])\n",
    "  print('Validation accuracy:', scoreVal[1])\n",
    "\n",
    "  scoreTest = cnn_model.evaluate(x_test, y_test, verbose=1)\n",
    "  print('Test loss:', scoreTest[0])\n",
    "  print('Test accuracy:', scoreTest[1])\n",
    "  return scoreTest[1]"
   ]
  },
  {
   "cell_type": "code",
   "execution_count": null,
   "metadata": {
    "id": "F6sCjeL81MRe"
   },
   "outputs": [],
   "source": [
    "def plot_model_performance(history_model):\n",
    "  pyplot.plot()\n",
    "  pyplot.title('Classification Accuracy')\n",
    "  pyplot.plot(history_model.history['accuracy'], color='darkblue', label='train')\n",
    "  pyplot.plot(history_model.history['val_accuracy'], color='orange', label='test');"
   ]
  },
  {
   "cell_type": "markdown",
   "metadata": {
    "id": "3kamjKTjXePW"
   },
   "source": [
    "# Data Augmentation, initialize variables and Callback function"
   ]
  },
  {
   "cell_type": "code",
   "execution_count": null,
   "metadata": {
    "id": "fej6RxanvXIz"
   },
   "outputs": [],
   "source": [
    "batch_size = 128\n",
    "epochs = 80"
   ]
  },
  {
   "cell_type": "code",
   "execution_count": null,
   "metadata": {
    "id": "IjHrtKsnwwIm"
   },
   "outputs": [],
   "source": [
    "datagen = ImageDataGenerator(\n",
    "    horizontal_flip=True,\n",
    "    rotation_range=25,\n",
    "    width_shift_range=0.2,\n",
    "    height_shift_range=0.2,\n",
    "    shear_range=0.2,\n",
    "    zoom_range=0.2,\n",
    ")\n",
    "\n",
    "datagenTrain = datagen.flow(x_train, y_train, batch_size=batch_size, seed=499)\n",
    "\n",
    "datagenVal = ImageDataGenerator()\n",
    "datagenValidation = datagenVal.flow(x_val, y_val, batch_size= 64, seed= 499)\n"
   ]
  },
  {
   "cell_type": "code",
   "execution_count": null,
   "metadata": {
    "id": "dg4GG6cMvXL6"
   },
   "outputs": [],
   "source": [
    "callback = keras.callbacks.EarlyStopping(monitor='val_accuracy', patience=7, verbose=1)"
   ]
  },
  {
   "cell_type": "markdown",
   "metadata": {
    "id": "nyMMMNcTUL9q"
   },
   "source": [
    "# Without Dropout and without BatchNormalization without Data Augmentation\n"
   ]
  },
  {
   "cell_type": "code",
   "execution_count": null,
   "metadata": {
    "colab": {
     "base_uri": "https://localhost:8080/"
    },
    "id": "SV9R8sA2USNH",
    "outputId": "fbb92df6-92f3-489a-e77f-799117a8ecc0"
   },
   "outputs": [
    {
     "name": "stdout",
     "output_type": "stream",
     "text": [
      "Model: \"sequential\"\n",
      "_________________________________________________________________\n",
      "Layer (type)                 Output Shape              Param #   \n",
      "=================================================================\n",
      "conv2d (Conv2D)              (None, 32, 32, 32)        896       \n",
      "_________________________________________________________________\n",
      "conv2d_1 (Conv2D)            (None, 32, 32, 64)        18496     \n",
      "_________________________________________________________________\n",
      "average_pooling2d (AveragePo (None, 16, 16, 64)        0         \n",
      "_________________________________________________________________\n",
      "conv2d_2 (Conv2D)            (None, 16, 16, 64)        36928     \n",
      "_________________________________________________________________\n",
      "conv2d_3 (Conv2D)            (None, 16, 16, 128)       73856     \n",
      "_________________________________________________________________\n",
      "average_pooling2d_1 (Average (None, 8, 8, 128)         0         \n",
      "_________________________________________________________________\n",
      "conv2d_4 (Conv2D)            (None, 8, 8, 128)         147584    \n",
      "_________________________________________________________________\n",
      "average_pooling2d_2 (Average (None, 4, 4, 128)         0         \n",
      "_________________________________________________________________\n",
      "conv2d_5 (Conv2D)            (None, 4, 4, 256)         295168    \n",
      "_________________________________________________________________\n",
      "average_pooling2d_3 (Average (None, 2, 2, 256)         0         \n",
      "_________________________________________________________________\n",
      "flatten (Flatten)            (None, 1024)              0         \n",
      "_________________________________________________________________\n",
      "dense (Dense)                (None, 256)               262400    \n",
      "_________________________________________________________________\n",
      "dense_1 (Dense)              (None, 10)                2570      \n",
      "=================================================================\n",
      "Total params: 837,898\n",
      "Trainable params: 837,898\n",
      "Non-trainable params: 0\n",
      "_________________________________________________________________\n"
     ]
    }
   ],
   "source": [
    "K.clear_session()\n",
    "model = Sequential()\n",
    "model.add(Conv2D(32, kernel_size=(3,3), padding=\"same\", activation=\"relu\", input_shape = input_shape))\n",
    "model.add(Conv2D(64, kernel_size=(3,3), padding=\"same\", activation=\"relu\"))\n",
    "model.add(AveragePooling2D(pool_size=(2,2)))\n",
    "model.add(Conv2D(64, kernel_size=(3,3), padding=\"same\", activation=\"relu\"))\n",
    "model.add(Conv2D(128, kernel_size=(3,3), padding=\"same\", activation=\"relu\"))\n",
    "model.add(AveragePooling2D(pool_size=(2,2)))\n",
    "model.add(Conv2D(128, kernel_size=(3,3), padding=\"same\", activation=\"relu\"))\n",
    "model.add(AveragePooling2D(pool_size=(2,2)))\n",
    "model.add(Conv2D(256, kernel_size=(3,3), padding=\"same\", activation=\"relu\"))\n",
    "model.add(AveragePooling2D(pool_size=(2,2)))\n",
    "model.add(Flatten())\n",
    "model.add(Dense(256, activation=\"relu\"))\n",
    "model.add(Dense(num_classes, activation=\"softmax\"))\n",
    "model.summary()"
   ]
  },
  {
   "cell_type": "code",
   "execution_count": null,
   "metadata": {
    "id": "f90XJhj5USKN"
   },
   "outputs": [],
   "source": [
    "model.compile(loss = keras.losses.categorical_crossentropy, optimizer = \"adam\", metrics=[\"accuracy\"])"
   ]
  },
  {
   "cell_type": "code",
   "execution_count": null,
   "metadata": {
    "colab": {
     "base_uri": "https://localhost:8080/"
    },
    "id": "FGLsJe4eUSGW",
    "outputId": "54f0839f-9b99-48a3-9ac8-3e19998cc548"
   },
   "outputs": [
    {
     "name": "stdout",
     "output_type": "stream",
     "text": [
      "Epoch 1/15\n",
      "313/313 [==============================] - 15s 40ms/step - loss: 1.9579 - accuracy: 0.2645 - val_loss: 1.4917 - val_accuracy: 0.4446\n",
      "Epoch 2/15\n",
      "313/313 [==============================] - 11s 37ms/step - loss: 1.3967 - accuracy: 0.4841 - val_loss: 1.1658 - val_accuracy: 0.5754\n",
      "Epoch 3/15\n",
      "313/313 [==============================] - 12s 37ms/step - loss: 1.1227 - accuracy: 0.5976 - val_loss: 1.0169 - val_accuracy: 0.6378\n",
      "Epoch 4/15\n",
      "313/313 [==============================] - 11s 37ms/step - loss: 0.9540 - accuracy: 0.6576 - val_loss: 0.9422 - val_accuracy: 0.6715\n",
      "Epoch 5/15\n",
      "313/313 [==============================] - 11s 37ms/step - loss: 0.8411 - accuracy: 0.7008 - val_loss: 0.8772 - val_accuracy: 0.6855\n",
      "Epoch 6/15\n",
      "313/313 [==============================] - 11s 37ms/step - loss: 0.7532 - accuracy: 0.7347 - val_loss: 0.7790 - val_accuracy: 0.7299\n",
      "Epoch 7/15\n",
      "313/313 [==============================] - 11s 36ms/step - loss: 0.6497 - accuracy: 0.7684 - val_loss: 0.7253 - val_accuracy: 0.7477\n",
      "Epoch 8/15\n",
      "313/313 [==============================] - 11s 36ms/step - loss: 0.5857 - accuracy: 0.7934 - val_loss: 0.7490 - val_accuracy: 0.7468\n",
      "Epoch 9/15\n",
      "313/313 [==============================] - 11s 36ms/step - loss: 0.5172 - accuracy: 0.8160 - val_loss: 0.7163 - val_accuracy: 0.7623\n",
      "Epoch 10/15\n",
      "313/313 [==============================] - 11s 36ms/step - loss: 0.4574 - accuracy: 0.8357 - val_loss: 0.7248 - val_accuracy: 0.7589\n",
      "Epoch 11/15\n",
      "313/313 [==============================] - 11s 36ms/step - loss: 0.3886 - accuracy: 0.8625 - val_loss: 0.7155 - val_accuracy: 0.7713\n",
      "Epoch 12/15\n",
      "313/313 [==============================] - 11s 36ms/step - loss: 0.3274 - accuracy: 0.8823 - val_loss: 0.7140 - val_accuracy: 0.7796\n",
      "Epoch 13/15\n",
      "313/313 [==============================] - 11s 37ms/step - loss: 0.2623 - accuracy: 0.9062 - val_loss: 0.7278 - val_accuracy: 0.7792\n",
      "Epoch 14/15\n",
      "313/313 [==============================] - 11s 37ms/step - loss: 0.2178 - accuracy: 0.9218 - val_loss: 0.7853 - val_accuracy: 0.7785\n",
      "Epoch 15/15\n",
      "313/313 [==============================] - 11s 36ms/step - loss: 0.1857 - accuracy: 0.9339 - val_loss: 0.8378 - val_accuracy: 0.7786\n"
     ]
    }
   ],
   "source": [
    "history = model.fit(x_train, y_train, epochs=15, verbose=1, validation_data=(x_val, y_val), batch_size=batch_size)"
   ]
  },
  {
   "cell_type": "code",
   "execution_count": null,
   "metadata": {
    "colab": {
     "base_uri": "https://localhost:8080/"
    },
    "id": "QHGW9xqeUSCf",
    "outputId": "de0e4201-d6d6-451e-a6cc-7860299e3a14"
   },
   "outputs": [
    {
     "name": "stdout",
     "output_type": "stream",
     "text": [
      "1250/1250 [==============================] - 8s 6ms/step - loss: 0.1332 - accuracy: 0.9549\n",
      "Train loss: 0.1332038789987564\n",
      "Train accuracy: 0.9549000263214111\n",
      "313/313 [==============================] - 2s 7ms/step - loss: 0.8378 - accuracy: 0.7786\n",
      "Validation loss: 0.8377791047096252\n",
      "Validation accuracy: 0.7785999774932861\n",
      "313/313 [==============================] - 2s 7ms/step - loss: 0.8732 - accuracy: 0.7700\n",
      "Test loss: 0.8732258081436157\n",
      "Test accuracy: 0.7699999809265137\n"
     ]
    }
   ],
   "source": [
    "modelTest = evaluate(model)"
   ]
  },
  {
   "cell_type": "code",
   "execution_count": null,
   "metadata": {
    "colab": {
     "base_uri": "https://localhost:8080/",
     "height": 281
    },
    "id": "HoHAf3wJUR9I",
    "outputId": "44d5909a-d6e7-4118-dc76-db7851ca3499"
   },
   "outputs": [
    {
     "data": {
      "image/png": "[encoded data removed]",
      "text/plain": [
       "<Figure size 432x288 with 1 Axes>"
      ]
     },
     "metadata": {
      "needs_background": "light",
      "tags": []
     },
     "output_type": "display_data"
    }
   ],
   "source": [
    "plot_model_performance(history)"
   ]
  },
  {
   "cell_type": "markdown",
   "metadata": {
    "id": "31K6YUaLjx-1"
   },
   "source": [
    "# Without Dropout and without BatchNormalization"
   ]
  },
  {
   "cell_type": "code",
   "execution_count": null,
   "metadata": {
    "colab": {
     "base_uri": "https://localhost:8080/"
    },
    "id": "MQT2m0l_vXR0",
    "outputId": "02870101-bcab-46ae-a197-72a64834b71f"
   },
   "outputs": [
    {
     "name": "stdout",
     "output_type": "stream",
     "text": [
      "Model: \"sequential\"\n",
      "_________________________________________________________________\n",
      "Layer (type)                 Output Shape              Param #   \n",
      "=================================================================\n",
      "conv2d (Conv2D)              (None, 32, 32, 32)        896       \n",
      "_________________________________________________________________\n",
      "conv2d_1 (Conv2D)            (None, 32, 32, 64)        18496     \n",
      "_________________________________________________________________\n",
      "average_pooling2d (AveragePo (None, 16, 16, 64)        0         \n",
      "_________________________________________________________________\n",
      "conv2d_2 (Conv2D)            (None, 16, 16, 64)        36928     \n",
      "_________________________________________________________________\n",
      "conv2d_3 (Conv2D)            (None, 16, 16, 128)       73856     \n",
      "_________________________________________________________________\n",
      "average_pooling2d_1 (Average (None, 8, 8, 128)         0         \n",
      "_________________________________________________________________\n",
      "conv2d_4 (Conv2D)            (None, 8, 8, 128)         147584    \n",
      "_________________________________________________________________\n",
      "average_pooling2d_2 (Average (None, 4, 4, 128)         0         \n",
      "_________________________________________________________________\n",
      "conv2d_5 (Conv2D)            (None, 4, 4, 256)         295168    \n",
      "_________________________________________________________________\n",
      "average_pooling2d_3 (Average (None, 2, 2, 256)         0         \n",
      "_________________________________________________________________\n",
      "flatten (Flatten)            (None, 1024)              0         \n",
      "_________________________________________________________________\n",
      "dense (Dense)                (None, 256)               262400    \n",
      "_________________________________________________________________\n",
      "dense_1 (Dense)              (None, 10)                2570      \n",
      "=================================================================\n",
      "Total params: 837,898\n",
      "Trainable params: 837,898\n",
      "Non-trainable params: 0\n",
      "_________________________________________________________________\n"
     ]
    }
   ],
   "source": [
    "K.clear_session()\n",
    "model_1 = Sequential()\n",
    "model_1.add(Conv2D(32, kernel_size=(3,3), padding=\"same\", activation=\"relu\", input_shape = input_shape))\n",
    "model_1.add(Conv2D(64, kernel_size=(3,3), padding=\"same\", activation=\"relu\"))\n",
    "model_1.add(AveragePooling2D(pool_size=(2,2)))\n",
    "model_1.add(Conv2D(64, kernel_size=(3,3), padding=\"same\", activation=\"relu\"))\n",
    "model_1.add(Conv2D(128, kernel_size=(3,3), padding=\"same\", activation=\"relu\"))\n",
    "model_1.add(AveragePooling2D(pool_size=(2,2)))\n",
    "model_1.add(Conv2D(128, kernel_size=(3,3), padding=\"same\", activation=\"relu\"))\n",
    "model_1.add(AveragePooling2D(pool_size=(2,2)))\n",
    "model_1.add(Conv2D(256, kernel_size=(3,3), padding=\"same\", activation=\"relu\"))\n",
    "model_1.add(AveragePooling2D(pool_size=(2,2)))\n",
    "model_1.add(Flatten())\n",
    "model_1.add(Dense(256, activation=\"relu\"))\n",
    "model_1.add(Dense(num_classes, activation=\"softmax\"))\n",
    "model_1.summary()"
   ]
  },
  {
   "cell_type": "code",
   "execution_count": null,
   "metadata": {
    "id": "G4VKTeUMvXVU"
   },
   "outputs": [],
   "source": [
    "model_1.compile(loss = keras.losses.categorical_crossentropy, optimizer = \"adam\", metrics=[\"accuracy\"])"
   ]
  },
  {
   "cell_type": "code",
   "execution_count": null,
   "metadata": {
    "colab": {
     "base_uri": "https://localhost:8080/"
    },
    "id": "GgsDKlByxTLY",
    "outputId": "c0e98382-7d7e-4f81-9f4c-03c9e3fbca89"
   },
   "outputs": [
    {
     "name": "stdout",
     "output_type": "stream",
     "text": [
      "Epoch 1/80\n",
      "313/313 [==============================] - 34s 106ms/step - loss: 2.0422 - accuracy: 0.2337 - val_loss: 1.5602 - val_accuracy: 0.4188\n",
      "Epoch 2/80\n",
      "313/313 [==============================] - 33s 105ms/step - loss: 1.6278 - accuracy: 0.3994 - val_loss: 1.4494 - val_accuracy: 0.4866\n",
      "Epoch 3/80\n",
      "313/313 [==============================] - 32s 104ms/step - loss: 1.4349 - accuracy: 0.4774 - val_loss: 1.2401 - val_accuracy: 0.5502\n",
      "Epoch 4/80\n",
      "313/313 [==============================] - 32s 102ms/step - loss: 1.3224 - accuracy: 0.5178 - val_loss: 1.2071 - val_accuracy: 0.5750\n",
      "Epoch 5/80\n",
      "313/313 [==============================] - 32s 102ms/step - loss: 1.2150 - accuracy: 0.5650 - val_loss: 1.2168 - val_accuracy: 0.5802\n",
      "Epoch 6/80\n",
      "313/313 [==============================] - 33s 104ms/step - loss: 1.1636 - accuracy: 0.5842 - val_loss: 1.0539 - val_accuracy: 0.6226\n",
      "Epoch 7/80\n",
      "313/313 [==============================] - 32s 103ms/step - loss: 1.1014 - accuracy: 0.6059 - val_loss: 0.9783 - val_accuracy: 0.6588\n",
      "Epoch 8/80\n",
      "313/313 [==============================] - 32s 102ms/step - loss: 1.0418 - accuracy: 0.6323 - val_loss: 0.9389 - val_accuracy: 0.6703\n",
      "Epoch 9/80\n",
      "313/313 [==============================] - 33s 106ms/step - loss: 0.9840 - accuracy: 0.6533 - val_loss: 0.9006 - val_accuracy: 0.6839\n",
      "Epoch 10/80\n",
      "313/313 [==============================] - 33s 104ms/step - loss: 0.9643 - accuracy: 0.6549 - val_loss: 0.9132 - val_accuracy: 0.6836\n",
      "Epoch 11/80\n",
      "313/313 [==============================] - 32s 103ms/step - loss: 0.9275 - accuracy: 0.6709 - val_loss: 0.8495 - val_accuracy: 0.7036\n",
      "Epoch 12/80\n",
      "313/313 [==============================] - 33s 106ms/step - loss: 0.8892 - accuracy: 0.6838 - val_loss: 0.7788 - val_accuracy: 0.7291\n",
      "Epoch 13/80\n",
      "313/313 [==============================] - 32s 103ms/step - loss: 0.8536 - accuracy: 0.7047 - val_loss: 0.8537 - val_accuracy: 0.7091\n",
      "Epoch 14/80\n",
      "313/313 [==============================] - 32s 102ms/step - loss: 0.8149 - accuracy: 0.7125 - val_loss: 0.7950 - val_accuracy: 0.7276\n",
      "Epoch 15/80\n",
      "313/313 [==============================] - 32s 102ms/step - loss: 0.8002 - accuracy: 0.7181 - val_loss: 0.8106 - val_accuracy: 0.7281\n",
      "Epoch 16/80\n",
      "313/313 [==============================] - 33s 105ms/step - loss: 0.7828 - accuracy: 0.7249 - val_loss: 0.7719 - val_accuracy: 0.7400\n",
      "Epoch 17/80\n",
      "313/313 [==============================] - 32s 103ms/step - loss: 0.7509 - accuracy: 0.7352 - val_loss: 0.6656 - val_accuracy: 0.7714\n",
      "Epoch 18/80\n",
      "313/313 [==============================] - 32s 102ms/step - loss: 0.7320 - accuracy: 0.7411 - val_loss: 0.7395 - val_accuracy: 0.7520\n",
      "Epoch 19/80\n",
      "313/313 [==============================] - 33s 105ms/step - loss: 0.7019 - accuracy: 0.7512 - val_loss: 0.8147 - val_accuracy: 0.7335\n",
      "Epoch 20/80\n",
      "313/313 [==============================] - 33s 104ms/step - loss: 0.6974 - accuracy: 0.7566 - val_loss: 0.6423 - val_accuracy: 0.7857\n",
      "Epoch 21/80\n",
      "313/313 [==============================] - 32s 103ms/step - loss: 0.6749 - accuracy: 0.7640 - val_loss: 0.7453 - val_accuracy: 0.7553\n",
      "Epoch 22/80\n",
      "313/313 [==============================] - 33s 106ms/step - loss: 0.6539 - accuracy: 0.7708 - val_loss: 0.6368 - val_accuracy: 0.7826\n",
      "Epoch 23/80\n",
      "313/313 [==============================] - 33s 105ms/step - loss: 0.6456 - accuracy: 0.7728 - val_loss: 0.5878 - val_accuracy: 0.8003\n",
      "Epoch 24/80\n",
      "313/313 [==============================] - 32s 102ms/step - loss: 0.6270 - accuracy: 0.7778 - val_loss: 0.7042 - val_accuracy: 0.7633\n",
      "Epoch 25/80\n",
      "313/313 [==============================] - 32s 102ms/step - loss: 0.6239 - accuracy: 0.7821 - val_loss: 0.6466 - val_accuracy: 0.7909\n",
      "Epoch 26/80\n",
      "313/313 [==============================] - 33s 104ms/step - loss: 0.6024 - accuracy: 0.7873 - val_loss: 0.5996 - val_accuracy: 0.8033\n",
      "Epoch 27/80\n",
      "313/313 [==============================] - 32s 102ms/step - loss: 0.5816 - accuracy: 0.7961 - val_loss: 0.6301 - val_accuracy: 0.7923\n",
      "Epoch 28/80\n",
      "313/313 [==============================] - 32s 101ms/step - loss: 0.5718 - accuracy: 0.7983 - val_loss: 0.5961 - val_accuracy: 0.7993\n",
      "Epoch 29/80\n",
      "313/313 [==============================] - 33s 104ms/step - loss: 0.5622 - accuracy: 0.8004 - val_loss: 0.5872 - val_accuracy: 0.8078\n",
      "Epoch 30/80\n",
      "313/313 [==============================] - 32s 102ms/step - loss: 0.5615 - accuracy: 0.8018 - val_loss: 0.5909 - val_accuracy: 0.8046\n",
      "Epoch 31/80\n",
      "313/313 [==============================] - 31s 100ms/step - loss: 0.5524 - accuracy: 0.8055 - val_loss: 0.5612 - val_accuracy: 0.8103\n",
      "Epoch 32/80\n",
      "313/313 [==============================] - 33s 104ms/step - loss: 0.5398 - accuracy: 0.8112 - val_loss: 0.6867 - val_accuracy: 0.7844\n",
      "Epoch 33/80\n",
      "313/313 [==============================] - 32s 103ms/step - loss: 0.5253 - accuracy: 0.8157 - val_loss: 0.5609 - val_accuracy: 0.8171\n",
      "Epoch 34/80\n",
      "313/313 [==============================] - 32s 102ms/step - loss: 0.5260 - accuracy: 0.8132 - val_loss: 0.5372 - val_accuracy: 0.8173\n",
      "Epoch 35/80\n",
      "313/313 [==============================] - 33s 106ms/step - loss: 0.5116 - accuracy: 0.8193 - val_loss: 0.5537 - val_accuracy: 0.8199\n",
      "Epoch 36/80\n",
      "313/313 [==============================] - 32s 103ms/step - loss: 0.5086 - accuracy: 0.8212 - val_loss: 0.6357 - val_accuracy: 0.7954\n",
      "Epoch 37/80\n",
      "313/313 [==============================] - 32s 102ms/step - loss: 0.5050 - accuracy: 0.8255 - val_loss: 0.5262 - val_accuracy: 0.8257\n",
      "Epoch 38/80\n",
      "313/313 [==============================] - 32s 101ms/step - loss: 0.4810 - accuracy: 0.8321 - val_loss: 0.5202 - val_accuracy: 0.8288\n",
      "Epoch 39/80\n",
      "313/313 [==============================] - 32s 104ms/step - loss: 0.4854 - accuracy: 0.8290 - val_loss: 0.6214 - val_accuracy: 0.8074\n",
      "Epoch 40/80\n",
      "313/313 [==============================] - 32s 102ms/step - loss: 0.4744 - accuracy: 0.8334 - val_loss: 0.5620 - val_accuracy: 0.8175\n",
      "Epoch 41/80\n",
      "313/313 [==============================] - 32s 101ms/step - loss: 0.4633 - accuracy: 0.8353 - val_loss: 0.5245 - val_accuracy: 0.8295\n",
      "Epoch 42/80\n",
      "313/313 [==============================] - 33s 105ms/step - loss: 0.4620 - accuracy: 0.8404 - val_loss: 0.5695 - val_accuracy: 0.8157\n",
      "Epoch 43/80\n",
      "313/313 [==============================] - 32s 103ms/step - loss: 0.4531 - accuracy: 0.8432 - val_loss: 0.5547 - val_accuracy: 0.8246\n",
      "Epoch 44/80\n",
      "313/313 [==============================] - 32s 102ms/step - loss: 0.4537 - accuracy: 0.8398 - val_loss: 0.6353 - val_accuracy: 0.8054\n",
      "Epoch 45/80\n",
      "313/313 [==============================] - 33s 106ms/step - loss: 0.4424 - accuracy: 0.8448 - val_loss: 0.5174 - val_accuracy: 0.8350\n",
      "Epoch 46/80\n",
      "313/313 [==============================] - 32s 104ms/step - loss: 0.4434 - accuracy: 0.8422 - val_loss: 0.4955 - val_accuracy: 0.8448\n",
      "Epoch 47/80\n",
      "313/313 [==============================] - 32s 103ms/step - loss: 0.4329 - accuracy: 0.8483 - val_loss: 0.5493 - val_accuracy: 0.8320\n",
      "Epoch 48/80\n",
      "313/313 [==============================] - 32s 102ms/step - loss: 0.4234 - accuracy: 0.8521 - val_loss: 0.5575 - val_accuracy: 0.8316\n",
      "Epoch 49/80\n",
      "313/313 [==============================] - 33s 104ms/step - loss: 0.4220 - accuracy: 0.8503 - val_loss: 0.5305 - val_accuracy: 0.8285\n",
      "Epoch 50/80\n",
      "313/313 [==============================] - 32s 103ms/step - loss: 0.4198 - accuracy: 0.8522 - val_loss: 0.5237 - val_accuracy: 0.8384\n",
      "Epoch 51/80\n",
      "313/313 [==============================] - 32s 102ms/step - loss: 0.4102 - accuracy: 0.8575 - val_loss: 0.6128 - val_accuracy: 0.8095\n",
      "Epoch 52/80\n",
      "313/313 [==============================] - 33s 106ms/step - loss: 0.4119 - accuracy: 0.8562 - val_loss: 0.5224 - val_accuracy: 0.8398\n",
      "Epoch 53/80\n",
      "313/313 [==============================] - 32s 103ms/step - loss: 0.4028 - accuracy: 0.8599 - val_loss: 0.5092 - val_accuracy: 0.8329\n",
      "Epoch 00053: early stopping\n"
     ]
    }
   ],
   "source": [
    "history_1 = model_1.fit(datagenTrain, epochs=epochs, verbose=1, validation_data=datagenValidation, callbacks=[callback])"
   ]
  },
  {
   "cell_type": "code",
   "execution_count": null,
   "metadata": {
    "colab": {
     "base_uri": "https://localhost:8080/"
    },
    "id": "wIgxYX95xpDb",
    "outputId": "cadce597-471a-4b2d-8cfc-0c073db1967f"
   },
   "outputs": [
    {
     "name": "stdout",
     "output_type": "stream",
     "text": [
      "1250/1250 [==============================] - 8s 6ms/step - loss: 0.3042 - accuracy: 0.8926\n",
      "Train loss: 0.30422070622444153\n",
      "Train accuracy: 0.8925999999046326\n",
      "313/313 [==============================] - 2s 7ms/step - loss: 0.5092 - accuracy: 0.8329\n",
      "Validation loss: 0.509209394454956\n",
      "Validation accuracy: 0.8328999876976013\n",
      "313/313 [==============================] - 2s 7ms/step - loss: 0.5186 - accuracy: 0.8321\n",
      "Test loss: 0.5185501575469971\n",
      "Test accuracy: 0.832099974155426\n"
     ]
    }
   ],
   "source": [
    "model_1Test = evaluate(model_1)"
   ]
  },
  {
   "cell_type": "code",
   "execution_count": null,
   "metadata": {
    "colab": {
     "base_uri": "https://localhost:8080/",
     "height": 281
    },
    "id": "btrOkUdEBQAZ",
    "outputId": "c8c058cf-dace-41d2-bccb-1c48878140cb"
   },
   "outputs": [
    {
     "data": {
      "image/png": "[encoded data removed]",
      "text/plain": [
       "<Figure size 432x288 with 1 Axes>"
      ]
     },
     "metadata": {
      "needs_background": "light",
      "tags": []
     },
     "output_type": "display_data"
    }
   ],
   "source": [
    "plot_model_performance(history_1)"
   ]
  },
  {
   "cell_type": "markdown",
   "metadata": {
    "id": "kbFYAyhQkllO"
   },
   "source": [
    "# Without Dropout and with BatchNormalization "
   ]
  },
  {
   "cell_type": "code",
   "execution_count": null,
   "metadata": {
    "colab": {
     "base_uri": "https://localhost:8080/"
    },
    "id": "n-IIyZ6qk2HG",
    "outputId": "8bd48097-35ba-4e35-a50e-868746cf87d6"
   },
   "outputs": [
    {
     "name": "stdout",
     "output_type": "stream",
     "text": [
      "Model: \"sequential\"\n",
      "_________________________________________________________________\n",
      "Layer (type)                 Output Shape              Param #   \n",
      "=================================================================\n",
      "conv2d (Conv2D)              (None, 32, 32, 32)        896       \n",
      "_________________________________________________________________\n",
      "batch_normalization (BatchNo (None, 32, 32, 32)        128       \n",
      "_________________________________________________________________\n",
      "conv2d_1 (Conv2D)            (None, 32, 32, 64)        18496     \n",
      "_________________________________________________________________\n",
      "batch_normalization_1 (Batch (None, 32, 32, 64)        256       \n",
      "_________________________________________________________________\n",
      "average_pooling2d (AveragePo (None, 16, 16, 64)        0         \n",
      "_________________________________________________________________\n",
      "conv2d_2 (Conv2D)            (None, 16, 16, 64)        36928     \n",
      "_________________________________________________________________\n",
      "batch_normalization_2 (Batch (None, 16, 16, 64)        256       \n",
      "_________________________________________________________________\n",
      "conv2d_3 (Conv2D)            (None, 16, 16, 128)       73856     \n",
      "_________________________________________________________________\n",
      "batch_normalization_3 (Batch (None, 16, 16, 128)       512       \n",
      "_________________________________________________________________\n",
      "average_pooling2d_1 (Average (None, 8, 8, 128)         0         \n",
      "_________________________________________________________________\n",
      "conv2d_4 (Conv2D)            (None, 8, 8, 128)         147584    \n",
      "_________________________________________________________________\n",
      "batch_normalization_4 (Batch (None, 8, 8, 128)         512       \n",
      "_________________________________________________________________\n",
      "average_pooling2d_2 (Average (None, 4, 4, 128)         0         \n",
      "_________________________________________________________________\n",
      "conv2d_5 (Conv2D)            (None, 4, 4, 256)         295168    \n",
      "_________________________________________________________________\n",
      "batch_normalization_5 (Batch (None, 4, 4, 256)         1024      \n",
      "_________________________________________________________________\n",
      "average_pooling2d_3 (Average (None, 2, 2, 256)         0         \n",
      "_________________________________________________________________\n",
      "flatten (Flatten)            (None, 1024)              0         \n",
      "_________________________________________________________________\n",
      "dense (Dense)                (None, 256)               262400    \n",
      "_________________________________________________________________\n",
      "batch_normalization_6 (Batch (None, 256)               1024      \n",
      "_________________________________________________________________\n",
      "dense_1 (Dense)              (None, 10)                2570      \n",
      "=================================================================\n",
      "Total params: 841,610\n",
      "Trainable params: 839,754\n",
      "Non-trainable params: 1,856\n",
      "_________________________________________________________________\n"
     ]
    }
   ],
   "source": [
    "K.clear_session()\n",
    "model_2 = Sequential()\n",
    "model_2.add(Conv2D(32, kernel_size=(3,3), padding=\"same\", activation=\"relu\", input_shape = input_shape))\n",
    "model_2.add(BatchNormalization())\n",
    "model_2.add(Conv2D(64, kernel_size=(3,3), padding=\"same\", activation=\"relu\"))\n",
    "model_2.add(BatchNormalization())\n",
    "model_2.add(AveragePooling2D(pool_size=(2,2)))\n",
    "model_2.add(Conv2D(64, kernel_size=(3,3), padding=\"same\", activation=\"relu\"))\n",
    "model_2.add(BatchNormalization())\n",
    "model_2.add(Conv2D(128, kernel_size=(3,3), padding=\"same\", activation=\"relu\"))\n",
    "model_2.add(BatchNormalization())\n",
    "model_2.add(AveragePooling2D(pool_size=(2,2)))\n",
    "model_2.add(Conv2D(128, kernel_size=(3,3), padding=\"same\", activation=\"relu\"))\n",
    "model_2.add(BatchNormalization())\n",
    "model_2.add(AveragePooling2D(pool_size=(2,2)))\n",
    "model_2.add(Conv2D(256, kernel_size=(3,3), padding=\"same\", activation=\"relu\"))\n",
    "model_2.add(BatchNormalization())\n",
    "model_2.add(AveragePooling2D(pool_size=(2,2)))\n",
    "model_2.add(Flatten())\n",
    "model_2.add(Dense(256, activation=\"relu\"))\n",
    "model_2.add(BatchNormalization())\n",
    "model_2.add(Dense(num_classes, activation=\"softmax\"))\n",
    "model_2.summary()"
   ]
  },
  {
   "cell_type": "code",
   "execution_count": null,
   "metadata": {
    "id": "AYLGre5eqYrD"
   },
   "outputs": [],
   "source": [
    "model_2.compile(loss = keras.losses.categorical_crossentropy, optimizer = \"adam\", metrics=[\"accuracy\"])"
   ]
  },
  {
   "cell_type": "code",
   "execution_count": null,
   "metadata": {
    "colab": {
     "base_uri": "https://localhost:8080/"
    },
    "id": "dMjMbmqYnbRq",
    "outputId": "04d9e765-aa11-46c1-88eb-82a54eeb69d5"
   },
   "outputs": [
    {
     "name": "stdout",
     "output_type": "stream",
     "text": [
      "Epoch 1/80\n",
      "313/313 [==============================] - 36s 109ms/step - loss: 1.8599 - accuracy: 0.3493 - val_loss: 3.1442 - val_accuracy: 0.1920\n",
      "Epoch 2/80\n",
      "313/313 [==============================] - 34s 109ms/step - loss: 1.3516 - accuracy: 0.5121 - val_loss: 1.0817 - val_accuracy: 0.6065\n",
      "Epoch 3/80\n",
      "313/313 [==============================] - 33s 107ms/step - loss: 1.1470 - accuracy: 0.5911 - val_loss: 1.2493 - val_accuracy: 0.5936\n",
      "Epoch 4/80\n",
      "313/313 [==============================] - 33s 105ms/step - loss: 1.0099 - accuracy: 0.6448 - val_loss: 0.9949 - val_accuracy: 0.6610\n",
      "Epoch 5/80\n",
      "313/313 [==============================] - 33s 104ms/step - loss: 0.8916 - accuracy: 0.6870 - val_loss: 0.9288 - val_accuracy: 0.6950\n",
      "Epoch 6/80\n",
      "313/313 [==============================] - 34s 107ms/step - loss: 0.8076 - accuracy: 0.7180 - val_loss: 0.8891 - val_accuracy: 0.7042\n",
      "Epoch 7/80\n",
      "313/313 [==============================] - 33s 105ms/step - loss: 0.7241 - accuracy: 0.7461 - val_loss: 0.8994 - val_accuracy: 0.7088\n",
      "Epoch 8/80\n",
      "313/313 [==============================] - 33s 105ms/step - loss: 0.6844 - accuracy: 0.7615 - val_loss: 0.7801 - val_accuracy: 0.7381\n",
      "Epoch 9/80\n",
      "313/313 [==============================] - 34s 107ms/step - loss: 0.6337 - accuracy: 0.7807 - val_loss: 0.6702 - val_accuracy: 0.7746\n",
      "Epoch 10/80\n",
      "313/313 [==============================] - 33s 106ms/step - loss: 0.6058 - accuracy: 0.7846 - val_loss: 0.6052 - val_accuracy: 0.7994\n",
      "Epoch 11/80\n",
      "313/313 [==============================] - 33s 104ms/step - loss: 0.5688 - accuracy: 0.7993 - val_loss: 0.5415 - val_accuracy: 0.8142\n",
      "Epoch 12/80\n",
      "313/313 [==============================] - 34s 107ms/step - loss: 0.5389 - accuracy: 0.8129 - val_loss: 0.5817 - val_accuracy: 0.8119\n",
      "Epoch 13/80\n",
      "313/313 [==============================] - 33s 105ms/step - loss: 0.5160 - accuracy: 0.8207 - val_loss: 0.5431 - val_accuracy: 0.8237\n",
      "Epoch 14/80\n",
      "313/313 [==============================] - 32s 103ms/step - loss: 0.4893 - accuracy: 0.8288 - val_loss: 0.6656 - val_accuracy: 0.7895\n",
      "Epoch 15/80\n",
      "313/313 [==============================] - 34s 107ms/step - loss: 0.4745 - accuracy: 0.8356 - val_loss: 0.5622 - val_accuracy: 0.8226\n",
      "Epoch 16/80\n",
      "313/313 [==============================] - 33s 105ms/step - loss: 0.4571 - accuracy: 0.8407 - val_loss: 0.5731 - val_accuracy: 0.8160\n",
      "Epoch 17/80\n",
      "313/313 [==============================] - 32s 102ms/step - loss: 0.4411 - accuracy: 0.8450 - val_loss: 0.5518 - val_accuracy: 0.8239\n",
      "Epoch 18/80\n",
      "313/313 [==============================] - 33s 107ms/step - loss: 0.4289 - accuracy: 0.8498 - val_loss: 0.5719 - val_accuracy: 0.8131\n",
      "Epoch 19/80\n",
      "313/313 [==============================] - 33s 104ms/step - loss: 0.4235 - accuracy: 0.8540 - val_loss: 0.4752 - val_accuracy: 0.8446\n",
      "Epoch 20/80\n",
      "313/313 [==============================] - 32s 104ms/step - loss: 0.4115 - accuracy: 0.8566 - val_loss: 0.5385 - val_accuracy: 0.8267\n",
      "Epoch 21/80\n",
      "313/313 [==============================] - 34s 108ms/step - loss: 0.3913 - accuracy: 0.8643 - val_loss: 0.4907 - val_accuracy: 0.8435\n",
      "Epoch 22/80\n",
      "313/313 [==============================] - 33s 106ms/step - loss: 0.3894 - accuracy: 0.8633 - val_loss: 0.5722 - val_accuracy: 0.8278\n",
      "Epoch 23/80\n",
      "313/313 [==============================] - 33s 104ms/step - loss: 0.3823 - accuracy: 0.8648 - val_loss: 0.5005 - val_accuracy: 0.8367\n",
      "Epoch 24/80\n",
      "313/313 [==============================] - 34s 108ms/step - loss: 0.3600 - accuracy: 0.8748 - val_loss: 0.4995 - val_accuracy: 0.8403\n",
      "Epoch 25/80\n",
      "313/313 [==============================] - 33s 107ms/step - loss: 0.3523 - accuracy: 0.8753 - val_loss: 0.6019 - val_accuracy: 0.8098\n",
      "Epoch 26/80\n",
      "313/313 [==============================] - 33s 105ms/step - loss: 0.3386 - accuracy: 0.8784 - val_loss: 0.4065 - val_accuracy: 0.8680\n",
      "Epoch 27/80\n",
      "313/313 [==============================] - 34s 109ms/step - loss: 0.3311 - accuracy: 0.8851 - val_loss: 0.4668 - val_accuracy: 0.8516\n",
      "Epoch 28/80\n",
      "313/313 [==============================] - 34s 107ms/step - loss: 0.3335 - accuracy: 0.8818 - val_loss: 0.4527 - val_accuracy: 0.8513\n",
      "Epoch 29/80\n",
      "313/313 [==============================] - 33s 105ms/step - loss: 0.3245 - accuracy: 0.8847 - val_loss: 0.4853 - val_accuracy: 0.8517\n",
      "Epoch 30/80\n",
      "313/313 [==============================] - 33s 104ms/step - loss: 0.3176 - accuracy: 0.8917 - val_loss: 0.5546 - val_accuracy: 0.8315\n",
      "Epoch 31/80\n",
      "313/313 [==============================] - 34s 107ms/step - loss: 0.3017 - accuracy: 0.8949 - val_loss: 0.4966 - val_accuracy: 0.8497\n",
      "Epoch 32/80\n",
      "313/313 [==============================] - 33s 106ms/step - loss: 0.3132 - accuracy: 0.8890 - val_loss: 0.4582 - val_accuracy: 0.8647\n",
      "Epoch 33/80\n",
      "313/313 [==============================] - 33s 105ms/step - loss: 0.3093 - accuracy: 0.8931 - val_loss: 0.5197 - val_accuracy: 0.8440\n",
      "Epoch 00033: early stopping\n"
     ]
    }
   ],
   "source": [
    "history_2 = model_2.fit(datagenTrain, epochs=epochs, verbose=1, validation_data=datagenValidation, callbacks=[callback])"
   ]
  },
  {
   "cell_type": "code",
   "execution_count": null,
   "metadata": {
    "colab": {
     "base_uri": "https://localhost:8080/"
    },
    "id": "T1zGJZXBk2Ds",
    "outputId": "42cd7777-5588-4c65-a7b5-23f08ccf660a"
   },
   "outputs": [
    {
     "name": "stdout",
     "output_type": "stream",
     "text": [
      "1250/1250 [==============================] - 11s 8ms/step - loss: 0.2961 - accuracy: 0.9005\n",
      "Train loss: 0.29608720541000366\n",
      "Train accuracy: 0.900475025177002\n",
      "313/313 [==============================] - 3s 9ms/step - loss: 0.5197 - accuracy: 0.8440\n",
      "Validation loss: 0.5196813344955444\n",
      "Validation accuracy: 0.843999981880188\n",
      "313/313 [==============================] - 3s 9ms/step - loss: 0.5094 - accuracy: 0.8419\n",
      "Test loss: 0.5094279646873474\n",
      "Test accuracy: 0.8418999910354614\n"
     ]
    }
   ],
   "source": [
    "model_2Test = evaluate(model_2)"
   ]
  },
  {
   "cell_type": "code",
   "execution_count": null,
   "metadata": {
    "colab": {
     "base_uri": "https://localhost:8080/",
     "height": 281
    },
    "id": "sptWQvoCk2Ad",
    "outputId": "c1994aee-8a70-4162-f1da-70af29e5fcac"
   },
   "outputs": [
    {
     "data": {
      "image/png": "[encoded data removed]",
      "text/plain": [
       "<Figure size 432x288 with 1 Axes>"
      ]
     },
     "metadata": {
      "needs_background": "light",
      "tags": []
     },
     "output_type": "display_data"
    }
   ],
   "source": [
    "plot_model_performance(history_2)"
   ]
  },
  {
   "cell_type": "markdown",
   "metadata": {
    "id": "b_EUDSJxkPEd"
   },
   "source": [
    "# With Dropout-BatchNormalization"
   ]
  },
  {
   "cell_type": "code",
   "execution_count": null,
   "metadata": {
    "colab": {
     "base_uri": "https://localhost:8080/"
    },
    "id": "kTfx7TTRkkYx",
    "outputId": "1a098e70-686e-4afb-f436-e0d34b348566"
   },
   "outputs": [
    {
     "name": "stdout",
     "output_type": "stream",
     "text": [
      "Model: \"sequential\"\n",
      "_________________________________________________________________\n",
      "Layer (type)                 Output Shape              Param #   \n",
      "=================================================================\n",
      "conv2d (Conv2D)              (None, 32, 32, 32)        896       \n",
      "_________________________________________________________________\n",
      "batch_normalization (BatchNo (None, 32, 32, 32)        128       \n",
      "_________________________________________________________________\n",
      "dropout (Dropout)            (None, 32, 32, 32)        0         \n",
      "_________________________________________________________________\n",
      "conv2d_1 (Conv2D)            (None, 32, 32, 64)        18496     \n",
      "_________________________________________________________________\n",
      "batch_normalization_1 (Batch (None, 32, 32, 64)        256       \n",
      "_________________________________________________________________\n",
      "average_pooling2d (AveragePo (None, 16, 16, 64)        0         \n",
      "_________________________________________________________________\n",
      "dropout_1 (Dropout)          (None, 16, 16, 64)        0         \n",
      "_________________________________________________________________\n",
      "conv2d_2 (Conv2D)            (None, 16, 16, 64)        36928     \n",
      "_________________________________________________________________\n",
      "batch_normalization_2 (Batch (None, 16, 16, 64)        256       \n",
      "_________________________________________________________________\n",
      "dropout_2 (Dropout)          (None, 16, 16, 64)        0         \n",
      "_________________________________________________________________\n",
      "conv2d_3 (Conv2D)            (None, 16, 16, 128)       73856     \n",
      "_________________________________________________________________\n",
      "batch_normalization_3 (Batch (None, 16, 16, 128)       512       \n",
      "_________________________________________________________________\n",
      "average_pooling2d_1 (Average (None, 8, 8, 128)         0         \n",
      "_________________________________________________________________\n",
      "dropout_3 (Dropout)          (None, 8, 8, 128)         0         \n",
      "_________________________________________________________________\n",
      "conv2d_4 (Conv2D)            (None, 8, 8, 128)         147584    \n",
      "_________________________________________________________________\n",
      "batch_normalization_4 (Batch (None, 8, 8, 128)         512       \n",
      "_________________________________________________________________\n",
      "average_pooling2d_2 (Average (None, 4, 4, 128)         0         \n",
      "_________________________________________________________________\n",
      "dropout_4 (Dropout)          (None, 4, 4, 128)         0         \n",
      "_________________________________________________________________\n",
      "conv2d_5 (Conv2D)            (None, 4, 4, 256)         295168    \n",
      "_________________________________________________________________\n",
      "batch_normalization_5 (Batch (None, 4, 4, 256)         1024      \n",
      "_________________________________________________________________\n",
      "average_pooling2d_3 (Average (None, 2, 2, 256)         0         \n",
      "_________________________________________________________________\n",
      "dropout_5 (Dropout)          (None, 2, 2, 256)         0         \n",
      "_________________________________________________________________\n",
      "flatten (Flatten)            (None, 1024)              0         \n",
      "_________________________________________________________________\n",
      "dense (Dense)                (None, 256)               262400    \n",
      "_________________________________________________________________\n",
      "batch_normalization_6 (Batch (None, 256)               1024      \n",
      "_________________________________________________________________\n",
      "dropout_6 (Dropout)          (None, 256)               0         \n",
      "_________________________________________________________________\n",
      "dense_1 (Dense)              (None, 10)                2570      \n",
      "=================================================================\n",
      "Total params: 841,610\n",
      "Trainable params: 839,754\n",
      "Non-trainable params: 1,856\n",
      "_________________________________________________________________\n"
     ]
    }
   ],
   "source": [
    "K.clear_session()\n",
    "model_3 = Sequential()\n",
    "model_3.add(Conv2D(32, kernel_size=(3,3), padding=\"same\", activation=\"relu\", input_shape = input_shape))\n",
    "model_3.add(BatchNormalization())\n",
    "model_3.add(Dropout(0.1))\n",
    "model_3.add(Conv2D(64, kernel_size=(3,3), padding=\"same\", activation=\"relu\"))\n",
    "model_3.add(BatchNormalization())\n",
    "model_3.add(AveragePooling2D(pool_size=(2,2)))\n",
    "model_3.add(Dropout(0.1))\n",
    "model_3.add(Conv2D(64, kernel_size=(3,3), padding=\"same\", activation=\"relu\"))\n",
    "model_3.add(BatchNormalization())\n",
    "model_3.add(Dropout(0.1))\n",
    "model_3.add(Conv2D(128, kernel_size=(3,3), padding=\"same\", activation=\"relu\"))\n",
    "model_3.add(BatchNormalization())\n",
    "model_3.add(AveragePooling2D(pool_size=(2,2)))\n",
    "model_3.add(Dropout(0.2))\n",
    "model_3.add(Conv2D(128, kernel_size=(3,3), padding=\"same\", activation=\"relu\"))\n",
    "model_3.add(BatchNormalization())\n",
    "model_3.add(AveragePooling2D(pool_size=(2,2)))\n",
    "model_3.add(Dropout(0.2))\n",
    "model_3.add(Conv2D(256, kernel_size=(3,3), padding=\"same\", activation=\"relu\"))\n",
    "model_3.add(BatchNormalization())\n",
    "model_3.add(AveragePooling2D(pool_size=(2,2)))\n",
    "model_3.add(Dropout(0.2))\n",
    "model_3.add(Flatten())\n",
    "model_3.add(Dense(256, activation=\"relu\"))\n",
    "model_3.add(BatchNormalization())\n",
    "model_3.add(Dropout(0.3))\n",
    "model_3.add(Dense(num_classes, activation=\"softmax\"))\n",
    "model_3.summary()"
   ]
  },
  {
   "cell_type": "code",
   "execution_count": null,
   "metadata": {
    "id": "QMibr8uGqbfl"
   },
   "outputs": [],
   "source": [
    "model_3.compile(loss = keras.losses.categorical_crossentropy, optimizer = \"adam\", metrics=[\"accuracy\"])"
   ]
  },
  {
   "cell_type": "code",
   "execution_count": null,
   "metadata": {
    "colab": {
     "base_uri": "https://localhost:8080/"
    },
    "id": "nI-IomwioMK5",
    "outputId": "af37b503-60cc-4ceb-b37e-22e00f771020"
   },
   "outputs": [
    {
     "name": "stdout",
     "output_type": "stream",
     "text": [
      "Epoch 1/80\n",
      "313/313 [==============================] - 37s 112ms/step - loss: 2.1183 - accuracy: 0.2976 - val_loss: 2.9291 - val_accuracy: 0.1519\n",
      "Epoch 2/80\n",
      "313/313 [==============================] - 34s 110ms/step - loss: 1.5337 - accuracy: 0.4575 - val_loss: 1.1638 - val_accuracy: 0.5835\n",
      "Epoch 3/80\n",
      "313/313 [==============================] - 34s 109ms/step - loss: 1.3088 - accuracy: 0.5334 - val_loss: 1.5114 - val_accuracy: 0.5186\n",
      "Epoch 4/80\n",
      "313/313 [==============================] - 33s 105ms/step - loss: 1.1630 - accuracy: 0.5898 - val_loss: 1.0042 - val_accuracy: 0.6611\n",
      "Epoch 5/80\n",
      "313/313 [==============================] - 35s 111ms/step - loss: 1.0453 - accuracy: 0.6311 - val_loss: 1.0308 - val_accuracy: 0.6549\n",
      "Epoch 6/80\n",
      "313/313 [==============================] - 34s 108ms/step - loss: 0.9715 - accuracy: 0.6575 - val_loss: 0.9076 - val_accuracy: 0.6920\n",
      "Epoch 7/80\n",
      "313/313 [==============================] - 33s 107ms/step - loss: 0.9010 - accuracy: 0.6870 - val_loss: 0.9525 - val_accuracy: 0.6894\n",
      "Epoch 8/80\n",
      "313/313 [==============================] - 33s 106ms/step - loss: 0.8356 - accuracy: 0.7083 - val_loss: 0.8378 - val_accuracy: 0.7257\n",
      "Epoch 9/80\n",
      "313/313 [==============================] - 34s 109ms/step - loss: 0.8085 - accuracy: 0.7216 - val_loss: 0.7190 - val_accuracy: 0.7540\n",
      "Epoch 10/80\n",
      "313/313 [==============================] - 33s 106ms/step - loss: 0.7657 - accuracy: 0.7350 - val_loss: 0.7411 - val_accuracy: 0.7513\n",
      "Epoch 11/80\n",
      "313/313 [==============================] - 33s 105ms/step - loss: 0.7409 - accuracy: 0.7418 - val_loss: 0.6052 - val_accuracy: 0.7980\n",
      "Epoch 12/80\n",
      "313/313 [==============================] - 34s 108ms/step - loss: 0.7155 - accuracy: 0.7531 - val_loss: 0.6735 - val_accuracy: 0.7760\n",
      "Epoch 13/80\n",
      "313/313 [==============================] - 33s 106ms/step - loss: 0.7026 - accuracy: 0.7550 - val_loss: 0.6203 - val_accuracy: 0.7931\n",
      "Epoch 14/80\n",
      "313/313 [==============================] - 33s 105ms/step - loss: 0.6740 - accuracy: 0.7646 - val_loss: 0.5964 - val_accuracy: 0.7987\n",
      "Epoch 15/80\n",
      "313/313 [==============================] - 34s 109ms/step - loss: 0.6529 - accuracy: 0.7748 - val_loss: 0.6401 - val_accuracy: 0.7908\n",
      "Epoch 16/80\n",
      "313/313 [==============================] - 33s 107ms/step - loss: 0.6393 - accuracy: 0.7779 - val_loss: 0.5819 - val_accuracy: 0.8052\n",
      "Epoch 17/80\n",
      "313/313 [==============================] - 33s 105ms/step - loss: 0.6196 - accuracy: 0.7880 - val_loss: 0.6000 - val_accuracy: 0.7980\n",
      "Epoch 18/80\n",
      "313/313 [==============================] - 34s 110ms/step - loss: 0.6222 - accuracy: 0.7841 - val_loss: 0.5431 - val_accuracy: 0.8229\n",
      "Epoch 19/80\n",
      "313/313 [==============================] - 34s 110ms/step - loss: 0.6067 - accuracy: 0.7892 - val_loss: 0.5565 - val_accuracy: 0.8129\n",
      "Epoch 20/80\n",
      "313/313 [==============================] - 33s 107ms/step - loss: 0.5928 - accuracy: 0.7920 - val_loss: 0.5243 - val_accuracy: 0.8264\n",
      "Epoch 21/80\n",
      "313/313 [==============================] - 35s 111ms/step - loss: 0.5748 - accuracy: 0.8040 - val_loss: 0.4765 - val_accuracy: 0.8407\n",
      "Epoch 22/80\n",
      "313/313 [==============================] - 33s 107ms/step - loss: 0.5792 - accuracy: 0.7978 - val_loss: 0.5077 - val_accuracy: 0.8279\n",
      "Epoch 23/80\n",
      "313/313 [==============================] - 35s 111ms/step - loss: 0.5723 - accuracy: 0.8002 - val_loss: 0.4468 - val_accuracy: 0.8476\n",
      "Epoch 24/80\n",
      "313/313 [==============================] - 34s 108ms/step - loss: 0.5571 - accuracy: 0.8047 - val_loss: 0.4445 - val_accuracy: 0.8495\n",
      "Epoch 25/80\n",
      "313/313 [==============================] - 33s 106ms/step - loss: 0.5444 - accuracy: 0.8098 - val_loss: 0.5870 - val_accuracy: 0.8016\n",
      "Epoch 26/80\n",
      "313/313 [==============================] - 35s 111ms/step - loss: 0.5409 - accuracy: 0.8112 - val_loss: 0.4680 - val_accuracy: 0.8439\n",
      "Epoch 27/80\n",
      "313/313 [==============================] - 33s 107ms/step - loss: 0.5419 - accuracy: 0.8115 - val_loss: 0.4801 - val_accuracy: 0.8369\n",
      "Epoch 28/80\n",
      "313/313 [==============================] - 35s 111ms/step - loss: 0.5327 - accuracy: 0.8169 - val_loss: 0.4633 - val_accuracy: 0.8507\n",
      "Epoch 29/80\n",
      "313/313 [==============================] - 34s 109ms/step - loss: 0.5177 - accuracy: 0.8197 - val_loss: 0.4368 - val_accuracy: 0.8574\n",
      "Epoch 30/80\n",
      "313/313 [==============================] - 34s 108ms/step - loss: 0.5131 - accuracy: 0.8212 - val_loss: 0.4339 - val_accuracy: 0.8555\n",
      "Epoch 31/80\n",
      "313/313 [==============================] - 33s 107ms/step - loss: 0.5108 - accuracy: 0.8213 - val_loss: 0.4997 - val_accuracy: 0.8327\n",
      "Epoch 32/80\n",
      "313/313 [==============================] - 34s 110ms/step - loss: 0.4980 - accuracy: 0.8260 - val_loss: 0.4033 - val_accuracy: 0.8631\n",
      "Epoch 33/80\n",
      "313/313 [==============================] - 34s 108ms/step - loss: 0.4977 - accuracy: 0.8307 - val_loss: 0.4323 - val_accuracy: 0.8531\n",
      "Epoch 34/80\n",
      "313/313 [==============================] - 34s 107ms/step - loss: 0.4865 - accuracy: 0.8295 - val_loss: 0.4223 - val_accuracy: 0.8641\n",
      "Epoch 35/80\n",
      "313/313 [==============================] - 35s 111ms/step - loss: 0.4806 - accuracy: 0.8354 - val_loss: 0.4380 - val_accuracy: 0.8510\n",
      "Epoch 36/80\n",
      "313/313 [==============================] - 33s 107ms/step - loss: 0.4861 - accuracy: 0.8325 - val_loss: 0.4116 - val_accuracy: 0.8600\n",
      "Epoch 37/80\n",
      "313/313 [==============================] - 33s 106ms/step - loss: 0.4863 - accuracy: 0.8286 - val_loss: 0.4040 - val_accuracy: 0.8636\n",
      "Epoch 38/80\n",
      "313/313 [==============================] - 35s 111ms/step - loss: 0.4695 - accuracy: 0.8391 - val_loss: 0.4115 - val_accuracy: 0.8642\n",
      "Epoch 39/80\n",
      "313/313 [==============================] - 34s 109ms/step - loss: 0.4687 - accuracy: 0.8361 - val_loss: 0.3861 - val_accuracy: 0.8688\n",
      "Epoch 40/80\n",
      "313/313 [==============================] - 34s 107ms/step - loss: 0.4627 - accuracy: 0.8379 - val_loss: 0.4161 - val_accuracy: 0.8644\n",
      "Epoch 41/80\n",
      "313/313 [==============================] - 35s 110ms/step - loss: 0.4638 - accuracy: 0.8374 - val_loss: 0.4370 - val_accuracy: 0.8537\n",
      "Epoch 42/80\n",
      "313/313 [==============================] - 34s 107ms/step - loss: 0.4570 - accuracy: 0.8426 - val_loss: 0.4349 - val_accuracy: 0.8535\n",
      "Epoch 43/80\n",
      "313/313 [==============================] - 35s 111ms/step - loss: 0.4553 - accuracy: 0.8427 - val_loss: 0.4314 - val_accuracy: 0.8607\n",
      "Epoch 44/80\n",
      "313/313 [==============================] - 34s 110ms/step - loss: 0.4514 - accuracy: 0.8425 - val_loss: 0.4413 - val_accuracy: 0.8510\n",
      "Epoch 45/80\n",
      "313/313 [==============================] - 34s 108ms/step - loss: 0.4482 - accuracy: 0.8430 - val_loss: 0.3923 - val_accuracy: 0.8715\n",
      "Epoch 46/80\n",
      "313/313 [==============================] - 35s 112ms/step - loss: 0.4438 - accuracy: 0.8450 - val_loss: 0.3906 - val_accuracy: 0.8679\n",
      "Epoch 47/80\n",
      "313/313 [==============================] - 34s 109ms/step - loss: 0.4402 - accuracy: 0.8466 - val_loss: 0.3919 - val_accuracy: 0.8705\n",
      "Epoch 48/80\n",
      "313/313 [==============================] - 34s 108ms/step - loss: 0.4416 - accuracy: 0.8466 - val_loss: 0.3619 - val_accuracy: 0.8797\n",
      "Epoch 49/80\n",
      "313/313 [==============================] - 33s 107ms/step - loss: 0.4391 - accuracy: 0.8488 - val_loss: 0.4511 - val_accuracy: 0.8539\n",
      "Epoch 50/80\n",
      "313/313 [==============================] - 35s 110ms/step - loss: 0.4344 - accuracy: 0.8493 - val_loss: 0.3899 - val_accuracy: 0.8721\n",
      "Epoch 51/80\n",
      "313/313 [==============================] - 34s 109ms/step - loss: 0.4237 - accuracy: 0.8549 - val_loss: 0.4592 - val_accuracy: 0.8515\n",
      "Epoch 52/80\n",
      "313/313 [==============================] - 34s 108ms/step - loss: 0.4158 - accuracy: 0.8548 - val_loss: 0.3835 - val_accuracy: 0.8705\n",
      "Epoch 53/80\n",
      "313/313 [==============================] - 35s 111ms/step - loss: 0.4241 - accuracy: 0.8536 - val_loss: 0.4080 - val_accuracy: 0.8671\n",
      "Epoch 54/80\n",
      "313/313 [==============================] - 34s 109ms/step - loss: 0.4144 - accuracy: 0.8565 - val_loss: 0.3544 - val_accuracy: 0.8798\n",
      "Epoch 55/80\n",
      "313/313 [==============================] - 35s 111ms/step - loss: 0.4262 - accuracy: 0.8502 - val_loss: 0.3194 - val_accuracy: 0.8917\n",
      "Epoch 56/80\n",
      "313/313 [==============================] - 34s 110ms/step - loss: 0.4204 - accuracy: 0.8518 - val_loss: 0.3626 - val_accuracy: 0.8810\n",
      "Epoch 57/80\n",
      "313/313 [==============================] - 34s 108ms/step - loss: 0.4110 - accuracy: 0.8576 - val_loss: 0.3817 - val_accuracy: 0.8732\n",
      "Epoch 58/80\n",
      "313/313 [==============================] - 34s 108ms/step - loss: 0.4053 - accuracy: 0.8579 - val_loss: 0.4197 - val_accuracy: 0.8632\n",
      "Epoch 59/80\n",
      "313/313 [==============================] - 35s 111ms/step - loss: 0.4100 - accuracy: 0.8554 - val_loss: 0.4517 - val_accuracy: 0.8529\n",
      "Epoch 60/80\n",
      "313/313 [==============================] - 34s 108ms/step - loss: 0.4093 - accuracy: 0.8591 - val_loss: 0.3922 - val_accuracy: 0.8729\n",
      "Epoch 61/80\n",
      "313/313 [==============================] - 35s 111ms/step - loss: 0.4048 - accuracy: 0.8599 - val_loss: 0.3801 - val_accuracy: 0.8749\n",
      "Epoch 62/80\n",
      "313/313 [==============================] - 34s 109ms/step - loss: 0.3985 - accuracy: 0.8614 - val_loss: 0.3795 - val_accuracy: 0.8755\n",
      "Epoch 00062: early stopping\n"
     ]
    }
   ],
   "source": [
    "history_3 = model_3.fit(datagenTrain, epochs=epochs, verbose=1, validation_data=datagenValidation, callbacks=[callback])"
   ]
  },
  {
   "cell_type": "code",
   "execution_count": null,
   "metadata": {
    "colab": {
     "base_uri": "https://localhost:8080/"
    },
    "id": "sIwqsgnQkkVw",
    "outputId": "6c50a105-c595-4e63-e138-f1f88d2f9c51"
   },
   "outputs": [
    {
     "name": "stdout",
     "output_type": "stream",
     "text": [
      "1250/1250 [==============================] - 11s 8ms/step - loss: 0.2339 - accuracy: 0.9197\n",
      "Train loss: 0.2339276671409607\n",
      "Train accuracy: 0.9197250008583069\n",
      "313/313 [==============================] - 3s 9ms/step - loss: 0.3795 - accuracy: 0.8755\n",
      "Validation loss: 0.3794642388820648\n",
      "Validation accuracy: 0.8755000233650208\n",
      "313/313 [==============================] - 3s 9ms/step - loss: 0.3919 - accuracy: 0.8713\n",
      "Test loss: 0.39186161756515503\n",
      "Test accuracy: 0.8712999820709229\n"
     ]
    }
   ],
   "source": [
    "model_3Test = evaluate(model_3)"
   ]
  },
  {
   "cell_type": "code",
   "execution_count": null,
   "metadata": {
    "colab": {
     "base_uri": "https://localhost:8080/",
     "height": 281
    },
    "id": "Iqt6SIvSkkSC",
    "outputId": "6322055c-026a-4150-e1b9-a3581c9d08d1"
   },
   "outputs": [
    {
     "data": {
      "image/png": "[encoded data removed]",
      "text/plain": [
       "<Figure size 432x288 with 1 Axes>"
      ]
     },
     "metadata": {
      "needs_background": "light",
      "tags": []
     },
     "output_type": "display_data"
    }
   ],
   "source": [
    "plot_model_performance(history_3)"
   ]
  },
  {
   "cell_type": "markdown",
   "metadata": {
    "id": "jzUMjG3nmaSP"
   },
   "source": [
    "# Less Pooling Layer "
   ]
  },
  {
   "cell_type": "code",
   "execution_count": null,
   "metadata": {
    "colab": {
     "base_uri": "https://localhost:8080/"
    },
    "id": "053GJobimfgz",
    "outputId": "8bf9433a-97e4-4d7d-fe3c-f87e0efdf0d4"
   },
   "outputs": [
    {
     "name": "stdout",
     "output_type": "stream",
     "text": [
      "Model: \"sequential\"\n",
      "_________________________________________________________________\n",
      "Layer (type)                 Output Shape              Param #   \n",
      "=================================================================\n",
      "conv2d (Conv2D)              (None, 32, 32, 32)        896       \n",
      "_________________________________________________________________\n",
      "batch_normalization (BatchNo (None, 32, 32, 32)        128       \n",
      "_________________________________________________________________\n",
      "dropout (Dropout)            (None, 32, 32, 32)        0         \n",
      "_________________________________________________________________\n",
      "conv2d_1 (Conv2D)            (None, 32, 32, 64)        18496     \n",
      "_________________________________________________________________\n",
      "batch_normalization_1 (Batch (None, 32, 32, 64)        256       \n",
      "_________________________________________________________________\n",
      "dropout_1 (Dropout)          (None, 32, 32, 64)        0         \n",
      "_________________________________________________________________\n",
      "conv2d_2 (Conv2D)            (None, 32, 32, 64)        36928     \n",
      "_________________________________________________________________\n",
      "batch_normalization_2 (Batch (None, 32, 32, 64)        256       \n",
      "_________________________________________________________________\n",
      "average_pooling2d (AveragePo (None, 16, 16, 64)        0         \n",
      "_________________________________________________________________\n",
      "dropout_2 (Dropout)          (None, 16, 16, 64)        0         \n",
      "_________________________________________________________________\n",
      "conv2d_3 (Conv2D)            (None, 16, 16, 128)       73856     \n",
      "_________________________________________________________________\n",
      "batch_normalization_3 (Batch (None, 16, 16, 128)       512       \n",
      "_________________________________________________________________\n",
      "dropout_3 (Dropout)          (None, 16, 16, 128)       0         \n",
      "_________________________________________________________________\n",
      "conv2d_4 (Conv2D)            (None, 16, 16, 128)       147584    \n",
      "_________________________________________________________________\n",
      "batch_normalization_4 (Batch (None, 16, 16, 128)       512       \n",
      "_________________________________________________________________\n",
      "dropout_4 (Dropout)          (None, 16, 16, 128)       0         \n",
      "_________________________________________________________________\n",
      "conv2d_5 (Conv2D)            (None, 16, 16, 256)       295168    \n",
      "_________________________________________________________________\n",
      "batch_normalization_5 (Batch (None, 16, 16, 256)       1024      \n",
      "_________________________________________________________________\n",
      "average_pooling2d_1 (Average (None, 8, 8, 256)         0         \n",
      "_________________________________________________________________\n",
      "dropout_5 (Dropout)          (None, 8, 8, 256)         0         \n",
      "_________________________________________________________________\n",
      "flatten (Flatten)            (None, 16384)             0         \n",
      "_________________________________________________________________\n",
      "dense (Dense)                (None, 256)               4194560   \n",
      "_________________________________________________________________\n",
      "batch_normalization_6 (Batch (None, 256)               1024      \n",
      "_________________________________________________________________\n",
      "dropout_6 (Dropout)          (None, 256)               0         \n",
      "_________________________________________________________________\n",
      "dense_1 (Dense)              (None, 10)                2570      \n",
      "=================================================================\n",
      "Total params: 4,773,770\n",
      "Trainable params: 4,771,914\n",
      "Non-trainable params: 1,856\n",
      "_________________________________________________________________\n"
     ]
    }
   ],
   "source": [
    "K.clear_session()\n",
    "model_4 = Sequential()\n",
    "model_4.add(Conv2D(32, kernel_size=(3,3), padding=\"same\", activation=\"relu\", input_shape = input_shape))\n",
    "model_4.add(BatchNormalization())\n",
    "model_4.add(Dropout(0.1))\n",
    "model_4.add(Conv2D(64, kernel_size=(3,3), padding=\"same\", activation=\"relu\"))\n",
    "model_4.add(BatchNormalization())\n",
    "model_4.add(Dropout(0.1))\n",
    "model_4.add(Conv2D(64, kernel_size=(3,3), padding=\"same\", activation=\"relu\"))\n",
    "model_4.add(BatchNormalization())\n",
    "model_4.add(AveragePooling2D(pool_size=(2,2)))\n",
    "model_4.add(Dropout(0.1))\n",
    "model_4.add(Conv2D(128, kernel_size=(3,3), padding=\"same\", activation=\"relu\"))\n",
    "model_4.add(BatchNormalization())\n",
    "model_4.add(Dropout(0.2))\n",
    "model_4.add(Conv2D(128, kernel_size=(3,3), padding=\"same\", activation=\"relu\"))\n",
    "model_4.add(BatchNormalization())\n",
    "model_4.add(Dropout(0.2))\n",
    "model_4.add(Conv2D(256, kernel_size=(3,3), padding=\"same\", activation=\"relu\"))\n",
    "model_4.add(BatchNormalization())\n",
    "model_4.add(AveragePooling2D(pool_size=(2,2)))\n",
    "model_4.add(Dropout(0.2))\n",
    "model_4.add(Flatten())\n",
    "model_4.add(Dense(256, activation=\"relu\"))\n",
    "model_4.add(BatchNormalization())\n",
    "model_4.add(Dropout(0.3))\n",
    "model_4.add(Dense(num_classes, activation=\"softmax\"))\n",
    "model_4.summary()"
   ]
  },
  {
   "cell_type": "code",
   "execution_count": null,
   "metadata": {
    "id": "1PYLyzBeqebN"
   },
   "outputs": [],
   "source": [
    "model_4.compile(loss = keras.losses.categorical_crossentropy, optimizer = \"adam\", metrics=[\"accuracy\"])"
   ]
  },
  {
   "cell_type": "code",
   "execution_count": null,
   "metadata": {
    "colab": {
     "base_uri": "https://localhost:8080/"
    },
    "id": "dbFw0QXhmfV1",
    "outputId": "7dfaaf9f-e940-4be3-8921-3eca7f3b783d"
   },
   "outputs": [
    {
     "name": "stdout",
     "output_type": "stream",
     "text": [
      "Epoch 1/80\n",
      "313/313 [==============================] - 41s 124ms/step - loss: 2.0845 - accuracy: 0.3199 - val_loss: 3.6019 - val_accuracy: 0.1415\n",
      "Epoch 2/80\n",
      "313/313 [==============================] - 38s 122ms/step - loss: 1.4533 - accuracy: 0.4905 - val_loss: 1.0554 - val_accuracy: 0.6251\n",
      "Epoch 3/80\n",
      "313/313 [==============================] - 39s 123ms/step - loss: 1.2313 - accuracy: 0.5615 - val_loss: 1.0312 - val_accuracy: 0.6454\n",
      "Epoch 4/80\n",
      "313/313 [==============================] - 39s 124ms/step - loss: 1.0881 - accuracy: 0.6110 - val_loss: 0.9036 - val_accuracy: 0.6923\n",
      "Epoch 5/80\n",
      "313/313 [==============================] - 39s 125ms/step - loss: 0.9832 - accuracy: 0.6578 - val_loss: 0.8338 - val_accuracy: 0.7094\n",
      "Epoch 6/80\n",
      "313/313 [==============================] - 39s 123ms/step - loss: 0.9190 - accuracy: 0.6767 - val_loss: 0.7929 - val_accuracy: 0.7245\n",
      "Epoch 7/80\n",
      "313/313 [==============================] - 38s 122ms/step - loss: 0.8572 - accuracy: 0.7012 - val_loss: 0.8136 - val_accuracy: 0.7227\n",
      "Epoch 8/80\n",
      "313/313 [==============================] - 38s 122ms/step - loss: 0.8060 - accuracy: 0.7198 - val_loss: 0.7687 - val_accuracy: 0.7404\n",
      "Epoch 9/80\n",
      "313/313 [==============================] - 38s 123ms/step - loss: 0.7651 - accuracy: 0.7343 - val_loss: 0.7355 - val_accuracy: 0.7570\n",
      "Epoch 10/80\n",
      "313/313 [==============================] - 39s 123ms/step - loss: 0.7261 - accuracy: 0.7474 - val_loss: 0.6176 - val_accuracy: 0.7954\n",
      "Epoch 11/80\n",
      "313/313 [==============================] - 39s 124ms/step - loss: 0.6958 - accuracy: 0.7583 - val_loss: 0.7085 - val_accuracy: 0.7662\n",
      "Epoch 12/80\n",
      "313/313 [==============================] - 39s 124ms/step - loss: 0.6724 - accuracy: 0.7676 - val_loss: 0.6095 - val_accuracy: 0.8008\n",
      "Epoch 13/80\n",
      "313/313 [==============================] - 39s 125ms/step - loss: 0.6424 - accuracy: 0.7781 - val_loss: 0.6124 - val_accuracy: 0.8000\n",
      "Epoch 14/80\n",
      "313/313 [==============================] - 39s 124ms/step - loss: 0.6165 - accuracy: 0.7886 - val_loss: 0.5488 - val_accuracy: 0.8210\n",
      "Epoch 15/80\n",
      "313/313 [==============================] - 39s 124ms/step - loss: 0.6108 - accuracy: 0.7890 - val_loss: 0.5099 - val_accuracy: 0.8325\n",
      "Epoch 16/80\n",
      "313/313 [==============================] - 39s 124ms/step - loss: 0.5777 - accuracy: 0.7987 - val_loss: 0.6350 - val_accuracy: 0.7954\n",
      "Epoch 17/80\n",
      "313/313 [==============================] - 39s 124ms/step - loss: 0.5615 - accuracy: 0.8052 - val_loss: 0.5075 - val_accuracy: 0.8287\n",
      "Epoch 18/80\n",
      "313/313 [==============================] - 39s 125ms/step - loss: 0.5653 - accuracy: 0.8030 - val_loss: 0.5831 - val_accuracy: 0.8099\n",
      "Epoch 19/80\n",
      "313/313 [==============================] - 39s 125ms/step - loss: 0.5525 - accuracy: 0.8102 - val_loss: 0.4602 - val_accuracy: 0.8486\n",
      "Epoch 20/80\n",
      "313/313 [==============================] - 39s 124ms/step - loss: 0.5353 - accuracy: 0.8136 - val_loss: 0.4305 - val_accuracy: 0.8581\n",
      "Epoch 21/80\n",
      "313/313 [==============================] - 39s 124ms/step - loss: 0.5220 - accuracy: 0.8215 - val_loss: 0.5070 - val_accuracy: 0.8302\n",
      "Epoch 22/80\n",
      "313/313 [==============================] - 39s 125ms/step - loss: 0.5190 - accuracy: 0.8215 - val_loss: 0.4258 - val_accuracy: 0.8584\n",
      "Epoch 23/80\n",
      "313/313 [==============================] - 39s 124ms/step - loss: 0.5037 - accuracy: 0.8269 - val_loss: 0.4313 - val_accuracy: 0.8525\n",
      "Epoch 24/80\n",
      "313/313 [==============================] - 39s 125ms/step - loss: 0.4925 - accuracy: 0.8314 - val_loss: 0.4534 - val_accuracy: 0.8438\n",
      "Epoch 25/80\n",
      "313/313 [==============================] - 39s 124ms/step - loss: 0.4880 - accuracy: 0.8301 - val_loss: 0.4914 - val_accuracy: 0.8376\n",
      "Epoch 26/80\n",
      "313/313 [==============================] - 39s 124ms/step - loss: 0.4840 - accuracy: 0.8315 - val_loss: 0.4439 - val_accuracy: 0.8552\n",
      "Epoch 27/80\n",
      "313/313 [==============================] - 39s 123ms/step - loss: 0.4799 - accuracy: 0.8343 - val_loss: 0.3837 - val_accuracy: 0.8676\n",
      "Epoch 28/80\n",
      "313/313 [==============================] - 38s 123ms/step - loss: 0.4705 - accuracy: 0.8367 - val_loss: 0.4368 - val_accuracy: 0.8557\n",
      "Epoch 29/80\n",
      "313/313 [==============================] - 39s 124ms/step - loss: 0.4616 - accuracy: 0.8411 - val_loss: 0.4513 - val_accuracy: 0.8513\n",
      "Epoch 30/80\n",
      "313/313 [==============================] - 39s 124ms/step - loss: 0.4477 - accuracy: 0.8463 - val_loss: 0.3973 - val_accuracy: 0.8659\n",
      "Epoch 31/80\n",
      "313/313 [==============================] - 39s 124ms/step - loss: 0.4392 - accuracy: 0.8513 - val_loss: 0.3710 - val_accuracy: 0.8729\n",
      "Epoch 32/80\n",
      "313/313 [==============================] - 39s 124ms/step - loss: 0.4411 - accuracy: 0.8475 - val_loss: 0.4595 - val_accuracy: 0.8469\n",
      "Epoch 33/80\n",
      "313/313 [==============================] - 39s 124ms/step - loss: 0.4303 - accuracy: 0.8523 - val_loss: 0.3928 - val_accuracy: 0.8706\n",
      "Epoch 34/80\n",
      "313/313 [==============================] - 39s 124ms/step - loss: 0.4403 - accuracy: 0.8466 - val_loss: 0.3932 - val_accuracy: 0.8679\n",
      "Epoch 35/80\n",
      "313/313 [==============================] - 39s 124ms/step - loss: 0.4303 - accuracy: 0.8524 - val_loss: 0.3615 - val_accuracy: 0.8766\n",
      "Epoch 36/80\n",
      "313/313 [==============================] - 39s 124ms/step - loss: 0.4393 - accuracy: 0.8483 - val_loss: 0.3665 - val_accuracy: 0.8751\n",
      "Epoch 37/80\n",
      "313/313 [==============================] - 39s 124ms/step - loss: 0.4137 - accuracy: 0.8587 - val_loss: 0.4754 - val_accuracy: 0.8482\n",
      "Epoch 38/80\n",
      "313/313 [==============================] - 39s 124ms/step - loss: 0.3989 - accuracy: 0.8629 - val_loss: 0.4133 - val_accuracy: 0.8616\n",
      "Epoch 39/80\n",
      "313/313 [==============================] - 39s 124ms/step - loss: 0.4106 - accuracy: 0.8579 - val_loss: 0.3829 - val_accuracy: 0.8720\n",
      "Epoch 40/80\n",
      "313/313 [==============================] - 39s 124ms/step - loss: 0.4009 - accuracy: 0.8608 - val_loss: 0.3779 - val_accuracy: 0.8734\n",
      "Epoch 41/80\n",
      "313/313 [==============================] - 39s 124ms/step - loss: 0.3941 - accuracy: 0.8618 - val_loss: 0.4266 - val_accuracy: 0.8645\n",
      "Epoch 42/80\n",
      "313/313 [==============================] - 39s 124ms/step - loss: 0.3975 - accuracy: 0.8611 - val_loss: 0.3758 - val_accuracy: 0.8763\n",
      "Epoch 00042: early stopping\n"
     ]
    }
   ],
   "source": [
    "history_4 = model_4.fit(datagenTrain, epochs=epochs, verbose=1, validation_data=datagenValidation, callbacks=[callback])"
   ]
  },
  {
   "cell_type": "code",
   "execution_count": null,
   "metadata": {
    "colab": {
     "base_uri": "https://localhost:8080/"
    },
    "id": "L8yslYTpki_u",
    "outputId": "59939fb1-2b5b-4734-983a-fb70940b2805"
   },
   "outputs": [
    {
     "name": "stdout",
     "output_type": "stream",
     "text": [
      "1250/1250 [==============================] - 12s 9ms/step - loss: 0.2148 - accuracy: 0.9258\n",
      "Train loss: 0.21477828919887543\n",
      "Train accuracy: 0.9258249998092651\n",
      "313/313 [==============================] - 3s 10ms/step - loss: 0.3758 - accuracy: 0.8763\n",
      "Validation loss: 0.37578439712524414\n",
      "Validation accuracy: 0.8762999773025513\n",
      "313/313 [==============================] - 3s 10ms/step - loss: 0.3777 - accuracy: 0.8756\n",
      "Test loss: 0.37770718336105347\n",
      "Test accuracy: 0.8755999803543091\n"
     ]
    }
   ],
   "source": [
    "model_4Test = evaluate(model_4)"
   ]
  },
  {
   "cell_type": "code",
   "execution_count": null,
   "metadata": {
    "colab": {
     "base_uri": "https://localhost:8080/",
     "height": 281
    },
    "id": "kwPxnPJvox5K",
    "outputId": "85c8b353-a3d4-4c9e-df5f-2a21673a4ba4"
   },
   "outputs": [
    {
     "data": {
      "image/png": "[encoded data removed]",
      "text/plain": [
       "<Figure size 432x288 with 1 Axes>"
      ]
     },
     "metadata": {
      "needs_background": "light",
      "tags": []
     },
     "output_type": "display_data"
    }
   ],
   "source": [
    "plot_model_performance(history_4)"
   ]
  },
  {
   "cell_type": "markdown",
   "metadata": {
    "id": "ZnzF6SJG1h6Y"
   },
   "source": [
    "# More Neuron \n"
   ]
  },
  {
   "cell_type": "code",
   "execution_count": null,
   "metadata": {
    "colab": {
     "base_uri": "https://localhost:8080/"
    },
    "id": "hig2jm8R1mC5",
    "outputId": "86338281-f93e-4679-c555-af3efb9894a6"
   },
   "outputs": [
    {
     "name": "stdout",
     "output_type": "stream",
     "text": [
      "Model: \"sequential\"\n",
      "_________________________________________________________________\n",
      "Layer (type)                 Output Shape              Param #   \n",
      "=================================================================\n",
      "conv2d (Conv2D)              (None, 32, 32, 32)        896       \n",
      "_________________________________________________________________\n",
      "batch_normalization (BatchNo (None, 32, 32, 32)        128       \n",
      "_________________________________________________________________\n",
      "dropout (Dropout)            (None, 32, 32, 32)        0         \n",
      "_________________________________________________________________\n",
      "conv2d_1 (Conv2D)            (None, 32, 32, 64)        18496     \n",
      "_________________________________________________________________\n",
      "batch_normalization_1 (Batch (None, 32, 32, 64)        256       \n",
      "_________________________________________________________________\n",
      "average_pooling2d (AveragePo (None, 16, 16, 64)        0         \n",
      "_________________________________________________________________\n",
      "dropout_1 (Dropout)          (None, 16, 16, 64)        0         \n",
      "_________________________________________________________________\n",
      "conv2d_2 (Conv2D)            (None, 16, 16, 64)        36928     \n",
      "_________________________________________________________________\n",
      "batch_normalization_2 (Batch (None, 16, 16, 64)        256       \n",
      "_________________________________________________________________\n",
      "dropout_2 (Dropout)          (None, 16, 16, 64)        0         \n",
      "_________________________________________________________________\n",
      "conv2d_3 (Conv2D)            (None, 16, 16, 128)       73856     \n",
      "_________________________________________________________________\n",
      "batch_normalization_3 (Batch (None, 16, 16, 128)       512       \n",
      "_________________________________________________________________\n",
      "average_pooling2d_1 (Average (None, 8, 8, 128)         0         \n",
      "_________________________________________________________________\n",
      "dropout_3 (Dropout)          (None, 8, 8, 128)         0         \n",
      "_________________________________________________________________\n",
      "conv2d_4 (Conv2D)            (None, 8, 8, 128)         147584    \n",
      "_________________________________________________________________\n",
      "batch_normalization_4 (Batch (None, 8, 8, 128)         512       \n",
      "_________________________________________________________________\n",
      "average_pooling2d_2 (Average (None, 4, 4, 128)         0         \n",
      "_________________________________________________________________\n",
      "dropout_4 (Dropout)          (None, 4, 4, 128)         0         \n",
      "_________________________________________________________________\n",
      "conv2d_5 (Conv2D)            (None, 4, 4, 256)         295168    \n",
      "_________________________________________________________________\n",
      "batch_normalization_5 (Batch (None, 4, 4, 256)         1024      \n",
      "_________________________________________________________________\n",
      "average_pooling2d_3 (Average (None, 2, 2, 256)         0         \n",
      "_________________________________________________________________\n",
      "dropout_5 (Dropout)          (None, 2, 2, 256)         0         \n",
      "_________________________________________________________________\n",
      "flatten (Flatten)            (None, 1024)              0         \n",
      "_________________________________________________________________\n",
      "dense (Dense)                (None, 512)               524800    \n",
      "_________________________________________________________________\n",
      "batch_normalization_6 (Batch (None, 512)               2048      \n",
      "_________________________________________________________________\n",
      "dropout_6 (Dropout)          (None, 512)               0         \n",
      "_________________________________________________________________\n",
      "dense_1 (Dense)              (None, 10)                5130      \n",
      "=================================================================\n",
      "Total params: 1,107,594\n",
      "Trainable params: 1,105,226\n",
      "Non-trainable params: 2,368\n",
      "_________________________________________________________________\n"
     ]
    }
   ],
   "source": [
    "K.clear_session()\n",
    "model_5 = Sequential()\n",
    "model_5.add(Conv2D(32, kernel_size=(3,3), padding=\"same\", activation=\"relu\", input_shape = input_shape))\n",
    "model_5.add(BatchNormalization())\n",
    "model_5.add(Dropout(0.1))\n",
    "model_5.add(Conv2D(64, kernel_size=(3,3), padding=\"same\", activation=\"relu\"))\n",
    "model_5.add(BatchNormalization())\n",
    "model_5.add(AveragePooling2D(pool_size=(2,2)))\n",
    "model_5.add(Dropout(0.1))\n",
    "model_5.add(Conv2D(64, kernel_size=(3,3), padding=\"same\", activation=\"relu\"))\n",
    "model_5.add(BatchNormalization())\n",
    "model_5.add(Dropout(0.1))\n",
    "model_5.add(Conv2D(128, kernel_size=(3,3), padding=\"same\", activation=\"relu\"))\n",
    "model_5.add(BatchNormalization())\n",
    "model_5.add(AveragePooling2D(pool_size=(2,2)))\n",
    "model_5.add(Dropout(0.2))\n",
    "model_5.add(Conv2D(128, kernel_size=(3,3), padding=\"same\", activation=\"relu\"))\n",
    "model_5.add(BatchNormalization())\n",
    "model_5.add(AveragePooling2D(pool_size=(2,2)))\n",
    "model_5.add(Dropout(0.2))\n",
    "model_5.add(Conv2D(256, kernel_size=(3,3), padding=\"same\", activation=\"relu\"))\n",
    "model_5.add(BatchNormalization())\n",
    "model_5.add(AveragePooling2D(pool_size=(2,2)))\n",
    "model_5.add(Dropout(0.2))\n",
    "model_5.add(Flatten())\n",
    "model_5.add(Dense(512, activation=\"relu\"))\n",
    "model_5.add(BatchNormalization())\n",
    "model_5.add(Dropout(0.4))\n",
    "model_5.add(Dense(num_classes, activation=\"softmax\"))\n",
    "model_5.summary()"
   ]
  },
  {
   "cell_type": "code",
   "execution_count": null,
   "metadata": {
    "id": "WyAgnzZQ1l-s"
   },
   "outputs": [],
   "source": [
    "model_5.compile(loss = keras.losses.categorical_crossentropy, optimizer = \"adam\", metrics=[\"accuracy\"])"
   ]
  },
  {
   "cell_type": "code",
   "execution_count": null,
   "metadata": {
    "colab": {
     "base_uri": "https://localhost:8080/"
    },
    "id": "nUSGnsMyZ9YE",
    "outputId": "3da7b189-498f-44ca-b00c-8e4e798c78fc"
   },
   "outputs": [
    {
     "name": "stdout",
     "output_type": "stream",
     "text": [
      "Epoch 1/80\n",
      "313/313 [==============================] - 37s 112ms/step - loss: 2.2395 - accuracy: 0.2890 - val_loss: 3.0223 - val_accuracy: 0.1607\n",
      "Epoch 2/80\n",
      "313/313 [==============================] - 35s 110ms/step - loss: 1.5934 - accuracy: 0.4420 - val_loss: 1.2258 - val_accuracy: 0.5539\n",
      "Epoch 3/80\n",
      "313/313 [==============================] - 34s 108ms/step - loss: 1.3585 - accuracy: 0.5293 - val_loss: 0.9922 - val_accuracy: 0.6477\n",
      "Epoch 4/80\n",
      "313/313 [==============================] - 34s 107ms/step - loss: 1.1994 - accuracy: 0.5798 - val_loss: 0.9854 - val_accuracy: 0.6633\n",
      "Epoch 5/80\n",
      "313/313 [==============================] - 33s 106ms/step - loss: 1.0713 - accuracy: 0.6238 - val_loss: 0.8706 - val_accuracy: 0.6959\n",
      "Epoch 6/80\n",
      "313/313 [==============================] - 35s 110ms/step - loss: 0.9940 - accuracy: 0.6542 - val_loss: 0.7927 - val_accuracy: 0.7286\n",
      "Epoch 7/80\n",
      "313/313 [==============================] - 34s 108ms/step - loss: 0.9041 - accuracy: 0.6829 - val_loss: 0.7199 - val_accuracy: 0.7529\n",
      "Epoch 8/80\n",
      "313/313 [==============================] - 34s 108ms/step - loss: 0.8631 - accuracy: 0.6981 - val_loss: 0.6578 - val_accuracy: 0.7729\n",
      "Epoch 9/80\n",
      "313/313 [==============================] - 35s 110ms/step - loss: 0.8313 - accuracy: 0.7086 - val_loss: 0.8038 - val_accuracy: 0.7284\n",
      "Epoch 10/80\n",
      "313/313 [==============================] - 34s 109ms/step - loss: 0.7904 - accuracy: 0.7265 - val_loss: 0.7218 - val_accuracy: 0.7610\n",
      "Epoch 11/80\n",
      "313/313 [==============================] - 34s 108ms/step - loss: 0.7701 - accuracy: 0.7333 - val_loss: 0.6960 - val_accuracy: 0.7674\n",
      "Epoch 12/80\n",
      "313/313 [==============================] - 34s 107ms/step - loss: 0.7338 - accuracy: 0.7462 - val_loss: 0.9402 - val_accuracy: 0.7066\n",
      "Epoch 13/80\n",
      "313/313 [==============================] - 34s 110ms/step - loss: 0.7234 - accuracy: 0.7501 - val_loss: 0.7583 - val_accuracy: 0.7554\n",
      "Epoch 14/80\n",
      "313/313 [==============================] - 34s 108ms/step - loss: 0.6836 - accuracy: 0.7627 - val_loss: 0.6582 - val_accuracy: 0.7838\n",
      "Epoch 15/80\n",
      "313/313 [==============================] - 33s 107ms/step - loss: 0.6822 - accuracy: 0.7647 - val_loss: 0.5680 - val_accuracy: 0.8092\n",
      "Epoch 16/80\n",
      "313/313 [==============================] - 35s 111ms/step - loss: 0.6533 - accuracy: 0.7764 - val_loss: 0.5505 - val_accuracy: 0.8137\n",
      "Epoch 17/80\n",
      "313/313 [==============================] - 34s 109ms/step - loss: 0.6377 - accuracy: 0.7808 - val_loss: 0.5939 - val_accuracy: 0.8055\n",
      "Epoch 18/80\n",
      "313/313 [==============================] - 34s 108ms/step - loss: 0.6414 - accuracy: 0.7763 - val_loss: 0.6102 - val_accuracy: 0.7939\n",
      "Epoch 19/80\n",
      "313/313 [==============================] - 34s 107ms/step - loss: 0.6040 - accuracy: 0.7879 - val_loss: 0.4988 - val_accuracy: 0.8333\n",
      "Epoch 20/80\n",
      "313/313 [==============================] - 35s 111ms/step - loss: 0.6019 - accuracy: 0.7917 - val_loss: 0.5192 - val_accuracy: 0.8225\n",
      "Epoch 21/80\n",
      "313/313 [==============================] - 34s 108ms/step - loss: 0.5942 - accuracy: 0.7922 - val_loss: 0.4777 - val_accuracy: 0.8361\n",
      "Epoch 22/80\n",
      "313/313 [==============================] - 34s 107ms/step - loss: 0.5960 - accuracy: 0.7968 - val_loss: 0.5606 - val_accuracy: 0.8106\n",
      "Epoch 23/80\n",
      "313/313 [==============================] - 35s 111ms/step - loss: 0.5871 - accuracy: 0.7953 - val_loss: 0.5666 - val_accuracy: 0.8171\n",
      "Epoch 24/80\n",
      "313/313 [==============================] - 34s 110ms/step - loss: 0.5700 - accuracy: 0.8004 - val_loss: 0.5293 - val_accuracy: 0.8303\n",
      "Epoch 25/80\n",
      "313/313 [==============================] - 34s 107ms/step - loss: 0.5550 - accuracy: 0.8066 - val_loss: 0.5266 - val_accuracy: 0.8308\n",
      "Epoch 26/80\n",
      "313/313 [==============================] - 33s 107ms/step - loss: 0.5470 - accuracy: 0.8107 - val_loss: 0.4524 - val_accuracy: 0.8429\n",
      "Epoch 27/80\n",
      "313/313 [==============================] - 35s 110ms/step - loss: 0.5450 - accuracy: 0.8138 - val_loss: 0.5681 - val_accuracy: 0.8174\n",
      "Epoch 28/80\n",
      "313/313 [==============================] - 34s 109ms/step - loss: 0.5343 - accuracy: 0.8147 - val_loss: 0.4776 - val_accuracy: 0.8388\n",
      "Epoch 29/80\n",
      "313/313 [==============================] - 33s 107ms/step - loss: 0.5342 - accuracy: 0.8144 - val_loss: 0.4342 - val_accuracy: 0.8541\n",
      "Epoch 30/80\n",
      "313/313 [==============================] - 35s 112ms/step - loss: 0.5255 - accuracy: 0.8172 - val_loss: 0.4485 - val_accuracy: 0.8464\n",
      "Epoch 31/80\n",
      "313/313 [==============================] - 34s 110ms/step - loss: 0.5174 - accuracy: 0.8220 - val_loss: 0.5802 - val_accuracy: 0.8080\n",
      "Epoch 32/80\n",
      "313/313 [==============================] - 34s 107ms/step - loss: 0.5217 - accuracy: 0.8195 - val_loss: 0.4024 - val_accuracy: 0.8645\n",
      "Epoch 33/80\n",
      "313/313 [==============================] - 34s 107ms/step - loss: 0.4947 - accuracy: 0.8320 - val_loss: 0.4433 - val_accuracy: 0.8497\n",
      "Epoch 34/80\n",
      "313/313 [==============================] - 35s 110ms/step - loss: 0.4951 - accuracy: 0.8268 - val_loss: 0.4457 - val_accuracy: 0.8506\n",
      "Epoch 35/80\n",
      "313/313 [==============================] - 34s 108ms/step - loss: 0.4967 - accuracy: 0.8296 - val_loss: 0.4117 - val_accuracy: 0.8603\n",
      "Epoch 36/80\n",
      "313/313 [==============================] - 34s 107ms/step - loss: 0.4891 - accuracy: 0.8298 - val_loss: 0.3892 - val_accuracy: 0.8704\n",
      "Epoch 37/80\n",
      "313/313 [==============================] - 35s 110ms/step - loss: 0.4811 - accuracy: 0.8324 - val_loss: 0.4423 - val_accuracy: 0.8559\n",
      "Epoch 38/80\n",
      "313/313 [==============================] - 34s 109ms/step - loss: 0.4791 - accuracy: 0.8380 - val_loss: 0.3850 - val_accuracy: 0.8690\n",
      "Epoch 39/80\n",
      "313/313 [==============================] - 33s 107ms/step - loss: 0.4713 - accuracy: 0.8375 - val_loss: 0.4443 - val_accuracy: 0.8519\n",
      "Epoch 40/80\n",
      "313/313 [==============================] - 33s 107ms/step - loss: 0.4748 - accuracy: 0.8338 - val_loss: 0.4380 - val_accuracy: 0.8560\n",
      "Epoch 41/80\n",
      "313/313 [==============================] - 35s 110ms/step - loss: 0.4747 - accuracy: 0.8361 - val_loss: 0.4303 - val_accuracy: 0.8586\n",
      "Epoch 42/80\n",
      "313/313 [==============================] - 34s 108ms/step - loss: 0.4671 - accuracy: 0.8376 - val_loss: 0.3821 - val_accuracy: 0.8745\n",
      "Epoch 43/80\n",
      "313/313 [==============================] - 34s 107ms/step - loss: 0.4472 - accuracy: 0.8473 - val_loss: 0.4251 - val_accuracy: 0.8597\n",
      "Epoch 44/80\n",
      "313/313 [==============================] - 35s 110ms/step - loss: 0.4571 - accuracy: 0.8417 - val_loss: 0.4500 - val_accuracy: 0.8456\n",
      "Epoch 45/80\n",
      "313/313 [==============================] - 34s 109ms/step - loss: 0.4564 - accuracy: 0.8411 - val_loss: 0.3905 - val_accuracy: 0.8679\n",
      "Epoch 46/80\n",
      "313/313 [==============================] - 33s 106ms/step - loss: 0.4560 - accuracy: 0.8439 - val_loss: 0.3628 - val_accuracy: 0.8784\n",
      "Epoch 47/80\n",
      "313/313 [==============================] - 34s 109ms/step - loss: 0.4360 - accuracy: 0.8482 - val_loss: 0.4032 - val_accuracy: 0.8627\n",
      "Epoch 48/80\n",
      "313/313 [==============================] - 34s 108ms/step - loss: 0.4544 - accuracy: 0.8416 - val_loss: 0.3680 - val_accuracy: 0.8796\n",
      "Epoch 49/80\n",
      "313/313 [==============================] - 33s 106ms/step - loss: 0.4361 - accuracy: 0.8483 - val_loss: 0.3801 - val_accuracy: 0.8720\n",
      "Epoch 50/80\n",
      "313/313 [==============================] - 35s 111ms/step - loss: 0.4365 - accuracy: 0.8479 - val_loss: 0.4290 - val_accuracy: 0.8594\n",
      "Epoch 51/80\n",
      "313/313 [==============================] - 34s 109ms/step - loss: 0.4343 - accuracy: 0.8496 - val_loss: 0.3750 - val_accuracy: 0.8722\n",
      "Epoch 52/80\n",
      "313/313 [==============================] - 34s 108ms/step - loss: 0.4370 - accuracy: 0.8490 - val_loss: 0.3916 - val_accuracy: 0.8728\n",
      "Epoch 53/80\n",
      "313/313 [==============================] - 33s 107ms/step - loss: 0.4254 - accuracy: 0.8540 - val_loss: 0.4089 - val_accuracy: 0.8656\n",
      "Epoch 54/80\n",
      "313/313 [==============================] - 34s 110ms/step - loss: 0.4233 - accuracy: 0.8536 - val_loss: 0.3778 - val_accuracy: 0.8725\n",
      "Epoch 55/80\n",
      "313/313 [==============================] - 34s 108ms/step - loss: 0.4242 - accuracy: 0.8515 - val_loss: 0.3820 - val_accuracy: 0.8734\n",
      "Epoch 00055: early stopping\n"
     ]
    }
   ],
   "source": [
    "history_5 = model_5.fit(datagenTrain, epochs=epochs, verbose=1, validation_data=datagenValidation, callbacks=[callback])"
   ]
  },
  {
   "cell_type": "code",
   "execution_count": null,
   "metadata": {
    "colab": {
     "base_uri": "https://localhost:8080/"
    },
    "id": "5mpQGbqJ1l1g",
    "outputId": "cb9bbc30-0fda-4f73-8046-255483895add"
   },
   "outputs": [
    {
     "name": "stdout",
     "output_type": "stream",
     "text": [
      "1250/1250 [==============================] - 11s 8ms/step - loss: 0.2397 - accuracy: 0.9176\n",
      "Train loss: 0.23972070217132568\n",
      "Train accuracy: 0.9176250100135803\n",
      "313/313 [==============================] - 3s 9ms/step - loss: 0.3820 - accuracy: 0.8734\n",
      "Validation loss: 0.38201355934143066\n",
      "Validation accuracy: 0.8733999729156494\n",
      "313/313 [==============================] - 3s 9ms/step - loss: 0.4015 - accuracy: 0.8671\n",
      "Test loss: 0.4015023410320282\n",
      "Test accuracy: 0.8671000003814697\n"
     ]
    }
   ],
   "source": [
    "model_5Test = evaluate(model_5)"
   ]
  },
  {
   "cell_type": "code",
   "execution_count": null,
   "metadata": {
    "colab": {
     "base_uri": "https://localhost:8080/",
     "height": 281
    },
    "id": "v7xGkClv13vS",
    "outputId": "d423030d-14b9-4b7b-9edf-ffae914ad8a3"
   },
   "outputs": [
    {
     "data": {
      "image/png": "[encoded data removed]",
      "text/plain": [
       "<Figure size 432x288 with 1 Axes>"
      ]
     },
     "metadata": {
      "needs_background": "light",
      "tags": []
     },
     "output_type": "display_data"
    }
   ],
   "source": [
    "plot_model_performance(history_5)"
   ]
  },
  {
   "cell_type": "markdown",
   "metadata": {
    "id": "SDnGJUNflh0q"
   },
   "source": [
    "# Extra Hidden Layer"
   ]
  },
  {
   "cell_type": "code",
   "execution_count": null,
   "metadata": {
    "colab": {
     "base_uri": "https://localhost:8080/"
    },
    "id": "l8JKQQ0_ki7t",
    "outputId": "6d945fed-e761-41d4-b936-b315daf9d5ed"
   },
   "outputs": [
    {
     "name": "stdout",
     "output_type": "stream",
     "text": [
      "Model: \"sequential\"\n",
      "_________________________________________________________________\n",
      "Layer (type)                 Output Shape              Param #   \n",
      "=================================================================\n",
      "conv2d (Conv2D)              (None, 32, 32, 32)        896       \n",
      "_________________________________________________________________\n",
      "batch_normalization (BatchNo (None, 32, 32, 32)        128       \n",
      "_________________________________________________________________\n",
      "dropout (Dropout)            (None, 32, 32, 32)        0         \n",
      "_________________________________________________________________\n",
      "conv2d_1 (Conv2D)            (None, 32, 32, 64)        18496     \n",
      "_________________________________________________________________\n",
      "batch_normalization_1 (Batch (None, 32, 32, 64)        256       \n",
      "_________________________________________________________________\n",
      "average_pooling2d (AveragePo (None, 16, 16, 64)        0         \n",
      "_________________________________________________________________\n",
      "dropout_1 (Dropout)          (None, 16, 16, 64)        0         \n",
      "_________________________________________________________________\n",
      "conv2d_2 (Conv2D)            (None, 16, 16, 64)        36928     \n",
      "_________________________________________________________________\n",
      "batch_normalization_2 (Batch (None, 16, 16, 64)        256       \n",
      "_________________________________________________________________\n",
      "dropout_2 (Dropout)          (None, 16, 16, 64)        0         \n",
      "_________________________________________________________________\n",
      "conv2d_3 (Conv2D)            (None, 16, 16, 128)       73856     \n",
      "_________________________________________________________________\n",
      "batch_normalization_3 (Batch (None, 16, 16, 128)       512       \n",
      "_________________________________________________________________\n",
      "average_pooling2d_1 (Average (None, 8, 8, 128)         0         \n",
      "_________________________________________________________________\n",
      "dropout_3 (Dropout)          (None, 8, 8, 128)         0         \n",
      "_________________________________________________________________\n",
      "conv2d_4 (Conv2D)            (None, 8, 8, 128)         147584    \n",
      "_________________________________________________________________\n",
      "batch_normalization_4 (Batch (None, 8, 8, 128)         512       \n",
      "_________________________________________________________________\n",
      "average_pooling2d_2 (Average (None, 4, 4, 128)         0         \n",
      "_________________________________________________________________\n",
      "dropout_4 (Dropout)          (None, 4, 4, 128)         0         \n",
      "_________________________________________________________________\n",
      "conv2d_5 (Conv2D)            (None, 4, 4, 256)         295168    \n",
      "_________________________________________________________________\n",
      "batch_normalization_5 (Batch (None, 4, 4, 256)         1024      \n",
      "_________________________________________________________________\n",
      "average_pooling2d_3 (Average (None, 2, 2, 256)         0         \n",
      "_________________________________________________________________\n",
      "dropout_5 (Dropout)          (None, 2, 2, 256)         0         \n",
      "_________________________________________________________________\n",
      "flatten (Flatten)            (None, 1024)              0         \n",
      "_________________________________________________________________\n",
      "dense (Dense)                (None, 256)               262400    \n",
      "_________________________________________________________________\n",
      "batch_normalization_6 (Batch (None, 256)               1024      \n",
      "_________________________________________________________________\n",
      "dropout_6 (Dropout)          (None, 256)               0         \n",
      "_________________________________________________________________\n",
      "dense_1 (Dense)              (None, 128)               32896     \n",
      "_________________________________________________________________\n",
      "batch_normalization_7 (Batch (None, 128)               512       \n",
      "_________________________________________________________________\n",
      "dropout_7 (Dropout)          (None, 128)               0         \n",
      "_________________________________________________________________\n",
      "dense_2 (Dense)              (None, 10)                1290      \n",
      "=================================================================\n",
      "Total params: 873,738\n",
      "Trainable params: 871,626\n",
      "Non-trainable params: 2,112\n",
      "_________________________________________________________________\n"
     ]
    }
   ],
   "source": [
    "K.clear_session()\n",
    "model_6 = Sequential()\n",
    "model_6.add(Conv2D(32, kernel_size=(3,3), padding=\"same\", activation=\"relu\", input_shape = input_shape))\n",
    "model_6.add(BatchNormalization())\n",
    "model_6.add(Dropout(0.1))\n",
    "model_6.add(Conv2D(64, kernel_size=(3,3), padding=\"same\", activation=\"relu\"))\n",
    "model_6.add(BatchNormalization())\n",
    "model_6.add(AveragePooling2D(pool_size=(2,2)))\n",
    "model_6.add(Dropout(0.1))\n",
    "model_6.add(Conv2D(64, kernel_size=(3,3), padding=\"same\", activation=\"relu\"))\n",
    "model_6.add(BatchNormalization())\n",
    "model_6.add(Dropout(0.1))\n",
    "model_6.add(Conv2D(128, kernel_size=(3,3), padding=\"same\", activation=\"relu\"))\n",
    "model_6.add(BatchNormalization())\n",
    "model_6.add(AveragePooling2D(pool_size=(2,2)))\n",
    "model_6.add(Dropout(0.2))\n",
    "model_6.add(Conv2D(128, kernel_size=(3,3), padding=\"same\", activation=\"relu\"))\n",
    "model_6.add(BatchNormalization())\n",
    "model_6.add(AveragePooling2D(pool_size=(2,2)))\n",
    "model_6.add(Dropout(0.2))\n",
    "model_6.add(Conv2D(256, kernel_size=(3,3), padding=\"same\", activation=\"relu\"))\n",
    "model_6.add(BatchNormalization())\n",
    "model_6.add(AveragePooling2D(pool_size=(2,2)))\n",
    "model_6.add(Dropout(0.2))\n",
    "model_6.add(Flatten())\n",
    "model_6.add(Dense(256, activation=\"relu\"))\n",
    "model_6.add(BatchNormalization())\n",
    "model_6.add(Dropout(0.3))\n",
    "model_6.add(Dense(128, activation=\"relu\"))\n",
    "model_6.add(BatchNormalization())\n",
    "model_6.add(Dropout(0.3))\n",
    "model_6.add(Dense(num_classes, activation=\"softmax\"))\n",
    "model_6.summary()"
   ]
  },
  {
   "cell_type": "code",
   "execution_count": null,
   "metadata": {
    "id": "yxszByheqhZo"
   },
   "outputs": [],
   "source": [
    "model_6.compile(loss = keras.losses.categorical_crossentropy, optimizer = \"adam\", metrics=[\"accuracy\"])"
   ]
  },
  {
   "cell_type": "code",
   "execution_count": null,
   "metadata": {
    "colab": {
     "base_uri": "https://localhost:8080/"
    },
    "id": "CGOX_BAPmS7H",
    "outputId": "9102bab5-1ec5-422a-be48-5ebc26a6b07e"
   },
   "outputs": [
    {
     "name": "stdout",
     "output_type": "stream",
     "text": [
      "Epoch 1/80\n",
      "313/313 [==============================] - 38s 114ms/step - loss: 2.2328 - accuracy: 0.2599 - val_loss: 2.6970 - val_accuracy: 0.2225\n",
      "Epoch 2/80\n",
      "313/313 [==============================] - 35s 111ms/step - loss: 1.6067 - accuracy: 0.4229 - val_loss: 1.4375 - val_accuracy: 0.5036\n",
      "Epoch 3/80\n",
      "313/313 [==============================] - 34s 109ms/step - loss: 1.3876 - accuracy: 0.5033 - val_loss: 1.3426 - val_accuracy: 0.5540\n",
      "Epoch 4/80\n",
      "313/313 [==============================] - 34s 108ms/step - loss: 1.2515 - accuracy: 0.5538 - val_loss: 1.1365 - val_accuracy: 0.6123\n",
      "Epoch 5/80\n",
      "313/313 [==============================] - 34s 107ms/step - loss: 1.1269 - accuracy: 0.6023 - val_loss: 1.0456 - val_accuracy: 0.6406\n",
      "Epoch 6/80\n",
      "313/313 [==============================] - 34s 110ms/step - loss: 1.0411 - accuracy: 0.6337 - val_loss: 0.8748 - val_accuracy: 0.6968\n",
      "Epoch 7/80\n",
      "313/313 [==============================] - 34s 108ms/step - loss: 0.9726 - accuracy: 0.6592 - val_loss: 0.9468 - val_accuracy: 0.6872\n",
      "Epoch 8/80\n",
      "313/313 [==============================] - 34s 107ms/step - loss: 0.9273 - accuracy: 0.6781 - val_loss: 0.7586 - val_accuracy: 0.7412\n",
      "Epoch 9/80\n",
      "313/313 [==============================] - 35s 111ms/step - loss: 0.8775 - accuracy: 0.6950 - val_loss: 0.8236 - val_accuracy: 0.7248\n",
      "Epoch 10/80\n",
      "313/313 [==============================] - 34s 108ms/step - loss: 0.8475 - accuracy: 0.7079 - val_loss: 0.7926 - val_accuracy: 0.7350\n",
      "Epoch 11/80\n",
      "313/313 [==============================] - 34s 107ms/step - loss: 0.8018 - accuracy: 0.7235 - val_loss: 0.6230 - val_accuracy: 0.7843\n",
      "Epoch 12/80\n",
      "313/313 [==============================] - 35s 111ms/step - loss: 0.7745 - accuracy: 0.7337 - val_loss: 1.0442 - val_accuracy: 0.6797\n",
      "Epoch 13/80\n",
      "313/313 [==============================] - 34s 107ms/step - loss: 0.7447 - accuracy: 0.7468 - val_loss: 0.6622 - val_accuracy: 0.7741\n",
      "Epoch 14/80\n",
      "313/313 [==============================] - 35s 112ms/step - loss: 0.7367 - accuracy: 0.7498 - val_loss: 0.6329 - val_accuracy: 0.7918\n",
      "Epoch 15/80\n",
      "313/313 [==============================] - 34s 108ms/step - loss: 0.7063 - accuracy: 0.7611 - val_loss: 0.6472 - val_accuracy: 0.7795\n",
      "Epoch 16/80\n",
      "313/313 [==============================] - 34s 108ms/step - loss: 0.6787 - accuracy: 0.7663 - val_loss: 0.6360 - val_accuracy: 0.7873\n",
      "Epoch 17/80\n",
      "313/313 [==============================] - 35s 111ms/step - loss: 0.6722 - accuracy: 0.7691 - val_loss: 0.5598 - val_accuracy: 0.8151\n",
      "Epoch 18/80\n",
      "313/313 [==============================] - 34s 108ms/step - loss: 0.6584 - accuracy: 0.7766 - val_loss: 1.0014 - val_accuracy: 0.7007\n",
      "Epoch 19/80\n",
      "313/313 [==============================] - 35s 111ms/step - loss: 0.6430 - accuracy: 0.7831 - val_loss: 0.5726 - val_accuracy: 0.8093\n",
      "Epoch 20/80\n",
      "313/313 [==============================] - 34s 109ms/step - loss: 0.6344 - accuracy: 0.7830 - val_loss: 0.6055 - val_accuracy: 0.7996\n",
      "Epoch 21/80\n",
      "313/313 [==============================] - 34s 107ms/step - loss: 0.6224 - accuracy: 0.7862 - val_loss: 0.5601 - val_accuracy: 0.8118\n",
      "Epoch 22/80\n",
      "313/313 [==============================] - 33s 106ms/step - loss: 0.6051 - accuracy: 0.7930 - val_loss: 0.5079 - val_accuracy: 0.8287\n",
      "Epoch 23/80\n",
      "313/313 [==============================] - 34s 109ms/step - loss: 0.5928 - accuracy: 0.7970 - val_loss: 0.5442 - val_accuracy: 0.8190\n",
      "Epoch 24/80\n",
      "313/313 [==============================] - 34s 107ms/step - loss: 0.5722 - accuracy: 0.8013 - val_loss: 0.5277 - val_accuracy: 0.8219\n",
      "Epoch 25/80\n",
      "313/313 [==============================] - 33s 106ms/step - loss: 0.5802 - accuracy: 0.8017 - val_loss: 0.4955 - val_accuracy: 0.8329\n",
      "Epoch 26/80\n",
      "313/313 [==============================] - 34s 110ms/step - loss: 0.5682 - accuracy: 0.8060 - val_loss: 0.4318 - val_accuracy: 0.8527\n",
      "Epoch 27/80\n",
      "313/313 [==============================] - 34s 108ms/step - loss: 0.5602 - accuracy: 0.8083 - val_loss: 0.6075 - val_accuracy: 0.8027\n",
      "Epoch 28/80\n",
      "313/313 [==============================] - 34s 107ms/step - loss: 0.5555 - accuracy: 0.8104 - val_loss: 0.4877 - val_accuracy: 0.8378\n",
      "Epoch 29/80\n",
      "313/313 [==============================] - 35s 110ms/step - loss: 0.5500 - accuracy: 0.8120 - val_loss: 0.5085 - val_accuracy: 0.8316\n",
      "Epoch 30/80\n",
      "313/313 [==============================] - 34s 108ms/step - loss: 0.5523 - accuracy: 0.8103 - val_loss: 0.4991 - val_accuracy: 0.8347\n",
      "Epoch 31/80\n",
      "313/313 [==============================] - 33s 106ms/step - loss: 0.5400 - accuracy: 0.8151 - val_loss: 0.4384 - val_accuracy: 0.8505\n",
      "Epoch 32/80\n",
      "313/313 [==============================] - 33s 106ms/step - loss: 0.5242 - accuracy: 0.8183 - val_loss: 0.4164 - val_accuracy: 0.8576\n",
      "Epoch 33/80\n",
      "313/313 [==============================] - 34s 109ms/step - loss: 0.5295 - accuracy: 0.8205 - val_loss: 0.4282 - val_accuracy: 0.8519\n",
      "Epoch 34/80\n",
      "313/313 [==============================] - 34s 108ms/step - loss: 0.5177 - accuracy: 0.8227 - val_loss: 0.4711 - val_accuracy: 0.8431\n",
      "Epoch 35/80\n",
      "313/313 [==============================] - 33s 106ms/step - loss: 0.5229 - accuracy: 0.8188 - val_loss: 0.5095 - val_accuracy: 0.8366\n",
      "Epoch 36/80\n",
      "313/313 [==============================] - 35s 110ms/step - loss: 0.5126 - accuracy: 0.8218 - val_loss: 0.4077 - val_accuracy: 0.8627\n",
      "Epoch 37/80\n",
      "313/313 [==============================] - 34s 109ms/step - loss: 0.5098 - accuracy: 0.8266 - val_loss: 0.4510 - val_accuracy: 0.8500\n",
      "Epoch 38/80\n",
      "313/313 [==============================] - 33s 106ms/step - loss: 0.4974 - accuracy: 0.8294 - val_loss: 0.3817 - val_accuracy: 0.8709\n",
      "Epoch 39/80\n",
      "313/313 [==============================] - 33s 106ms/step - loss: 0.4936 - accuracy: 0.8336 - val_loss: 0.3979 - val_accuracy: 0.8655\n",
      "Epoch 40/80\n",
      "313/313 [==============================] - 34s 110ms/step - loss: 0.4894 - accuracy: 0.8338 - val_loss: 0.4415 - val_accuracy: 0.8517\n",
      "Epoch 41/80\n",
      "313/313 [==============================] - 34s 108ms/step - loss: 0.4842 - accuracy: 0.8339 - val_loss: 0.4003 - val_accuracy: 0.8609\n",
      "Epoch 42/80\n",
      "313/313 [==============================] - 33s 106ms/step - loss: 0.4769 - accuracy: 0.8377 - val_loss: 0.4187 - val_accuracy: 0.8596\n",
      "Epoch 43/80\n",
      "313/313 [==============================] - 34s 110ms/step - loss: 0.4753 - accuracy: 0.8384 - val_loss: 0.3671 - val_accuracy: 0.8733\n",
      "Epoch 44/80\n",
      "313/313 [==============================] - 33s 106ms/step - loss: 0.4716 - accuracy: 0.8399 - val_loss: 0.4871 - val_accuracy: 0.8410\n",
      "Epoch 45/80\n",
      "313/313 [==============================] - 34s 110ms/step - loss: 0.4672 - accuracy: 0.8398 - val_loss: 0.4522 - val_accuracy: 0.8467\n",
      "Epoch 46/80\n",
      "313/313 [==============================] - 34s 108ms/step - loss: 0.4772 - accuracy: 0.8368 - val_loss: 0.3954 - val_accuracy: 0.8657\n",
      "Epoch 47/80\n",
      "313/313 [==============================] - 33s 106ms/step - loss: 0.4590 - accuracy: 0.8422 - val_loss: 0.4457 - val_accuracy: 0.8477\n",
      "Epoch 48/80\n",
      "313/313 [==============================] - 35s 111ms/step - loss: 0.4541 - accuracy: 0.8466 - val_loss: 0.3873 - val_accuracy: 0.8724\n",
      "Epoch 49/80\n",
      "313/313 [==============================] - 34s 108ms/step - loss: 0.4630 - accuracy: 0.8393 - val_loss: 0.4100 - val_accuracy: 0.8628\n",
      "Epoch 50/80\n",
      "313/313 [==============================] - 33s 106ms/step - loss: 0.4482 - accuracy: 0.8446 - val_loss: 0.3681 - val_accuracy: 0.8776\n",
      "Epoch 51/80\n",
      "313/313 [==============================] - 35s 111ms/step - loss: 0.4469 - accuracy: 0.8482 - val_loss: 0.3878 - val_accuracy: 0.8700\n",
      "Epoch 52/80\n",
      "313/313 [==============================] - 35s 111ms/step - loss: 0.4426 - accuracy: 0.8482 - val_loss: 0.3904 - val_accuracy: 0.8692\n",
      "Epoch 53/80\n",
      "313/313 [==============================] - 34s 109ms/step - loss: 0.4418 - accuracy: 0.8506 - val_loss: 0.3851 - val_accuracy: 0.8708\n",
      "Epoch 54/80\n",
      "313/313 [==============================] - 36s 114ms/step - loss: 0.4410 - accuracy: 0.8471 - val_loss: 0.3710 - val_accuracy: 0.8753\n",
      "Epoch 55/80\n",
      "313/313 [==============================] - 35s 111ms/step - loss: 0.4347 - accuracy: 0.8516 - val_loss: 0.3954 - val_accuracy: 0.8677\n",
      "Epoch 56/80\n",
      "313/313 [==============================] - 34s 109ms/step - loss: 0.4261 - accuracy: 0.8531 - val_loss: 0.3425 - val_accuracy: 0.8828\n",
      "Epoch 57/80\n",
      "313/313 [==============================] - 35s 111ms/step - loss: 0.4321 - accuracy: 0.8541 - val_loss: 0.3582 - val_accuracy: 0.8789\n",
      "Epoch 58/80\n",
      "313/313 [==============================] - 34s 110ms/step - loss: 0.4351 - accuracy: 0.8507 - val_loss: 0.3763 - val_accuracy: 0.8728\n",
      "Epoch 59/80\n",
      "313/313 [==============================] - 34s 108ms/step - loss: 0.4288 - accuracy: 0.8520 - val_loss: 0.3929 - val_accuracy: 0.8706\n",
      "Epoch 60/80\n",
      "313/313 [==============================] - 36s 113ms/step - loss: 0.4185 - accuracy: 0.8563 - val_loss: 0.3695 - val_accuracy: 0.8762\n",
      "Epoch 61/80\n",
      "313/313 [==============================] - 34s 109ms/step - loss: 0.4230 - accuracy: 0.8527 - val_loss: 0.3741 - val_accuracy: 0.8737\n",
      "Epoch 62/80\n",
      "313/313 [==============================] - 34s 108ms/step - loss: 0.4181 - accuracy: 0.8541 - val_loss: 0.3725 - val_accuracy: 0.8768\n",
      "Epoch 63/80\n",
      "313/313 [==============================] - 35s 113ms/step - loss: 0.4228 - accuracy: 0.8539 - val_loss: 0.3573 - val_accuracy: 0.8798\n",
      "Epoch 00063: early stopping\n"
     ]
    }
   ],
   "source": [
    "history_6 = model_6.fit(datagenTrain, epochs=epochs, verbose=1, validation_data=datagenValidation, callbacks=[callback] )"
   ]
  },
  {
   "cell_type": "code",
   "execution_count": null,
   "metadata": {
    "colab": {
     "base_uri": "https://localhost:8080/"
    },
    "id": "EwXR5r4bki2p",
    "outputId": "15a1601e-4b27-49c8-e3ab-134a01a33e4b"
   },
   "outputs": [
    {
     "name": "stdout",
     "output_type": "stream",
     "text": [
      "1250/1250 [==============================] - 9s 7ms/step - loss: 0.2285 - accuracy: 0.9209\n",
      "Train loss: 0.228529691696167\n",
      "Train accuracy: 0.9208999872207642\n",
      "313/313 [==============================] - 3s 8ms/step - loss: 0.3573 - accuracy: 0.8798\n",
      "Validation loss: 0.3573155701160431\n",
      "Validation accuracy: 0.879800021648407\n",
      "313/313 [==============================] - 3s 8ms/step - loss: 0.3768 - accuracy: 0.8741\n",
      "Test loss: 0.37677592039108276\n",
      "Test accuracy: 0.8741000294685364\n"
     ]
    }
   ],
   "source": [
    "model_6Test = evaluate(model_6)"
   ]
  },
  {
   "cell_type": "code",
   "execution_count": null,
   "metadata": {
    "colab": {
     "base_uri": "https://localhost:8080/",
     "height": 281
    },
    "id": "gwvu7x_YjYue",
    "outputId": "64a991b9-af6e-4f79-dfa5-e22f49ad55ff"
   },
   "outputs": [
    {
     "data": {
      "image/png": "[encoded data removed]",
      "text/plain": [
       "<Figure size 432x288 with 1 Axes>"
      ]
     },
     "metadata": {
      "needs_background": "light",
      "tags": []
     },
     "output_type": "display_data"
    }
   ],
   "source": [
    "plot_model_performance(history_6)"
   ]
  },
  {
   "cell_type": "markdown",
   "metadata": {
    "id": "1kIwdYQ22ILI"
   },
   "source": [
    "# Comparision Performance"
   ]
  },
  {
   "cell_type": "code",
   "execution_count": null,
   "metadata": {
    "colab": {
     "base_uri": "https://localhost:8080/",
     "height": 621
    },
    "id": "L8IFL4Pr2LGm",
    "outputId": "a7e6da83-5995-4442-c3cb-939150049125"
   },
   "outputs": [
    {
     "data": {
      "image/png": "[encoded data removed]",
      "text/plain": [
       "<Figure size 1152x720 with 4 Axes>"
      ]
     },
     "metadata": {
      "needs_background": "light",
      "tags": []
     },
     "output_type": "display_data"
    }
   ],
   "source": [
    "plt.figure(figsize=(16,10))\n",
    "plt.subplot(2,2,1)\n",
    "plt.plot(history.history['val_accuracy'], color='blue', label='val_acc')\n",
    "plt.plot(history.history['accuracy'], color='black', label='train_acc')\n",
    "plt.title('Without Data Augmentation/Dropout/Batch Normalization')\n",
    "plt.legend(loc='lower right')\n",
    "plt.xlabel(\"Number of Epoch\")\n",
    "plt.ylabel(\"Accuracy\")\n",
    "\n",
    "plt.subplot(2,2,2)\n",
    "plt.plot(history_1.history['val_accuracy'], color='orange', label='val_acc')\n",
    "plt.plot(history_1.history['accuracy'], color='black', label='train_acc')\n",
    "plt.title('Without Dropout/Batch Normalization')\n",
    "plt.legend(loc='lower right')\n",
    "plt.xlabel(\"Number of Epoch\")\n",
    "plt.ylabel(\"Accuracy\")\n",
    "\n",
    "plt.subplot(2,2,3)\n",
    "plt.plot(history_2.history['val_accuracy'], color='darkviolet', label='val_acc')\n",
    "plt.plot(history_2.history['accuracy'], color='black', label='train_acc')\n",
    "plt.title('Without Dropout With Batch Normalization')\n",
    "plt.legend(loc='lower right')\n",
    "plt.xlabel(\"Number of Epoch\")\n",
    "plt.ylabel(\"Accuracy\")\n",
    "\n",
    "plt.subplot(2,2,4)\n",
    "plt.plot(history_3.history['val_accuracy'], color='slateblue', label='val_acc')\n",
    "plt.plot(history_3.history['accuracy'], color='black', label='train_acc')\n",
    "plt.title('With Dropout With Batch Normalization')\n",
    "plt.legend(loc='lower right')\n",
    "plt.xlabel(\"Number of Epoch\")\n",
    "plt.ylabel(\"Accuracy\")\n",
    "\n",
    "plt.subplots_adjust(wspace=0.30, hspace=0.35)"
   ]
  },
  {
   "cell_type": "code",
   "execution_count": null,
   "metadata": {
    "colab": {
     "base_uri": "https://localhost:8080/",
     "height": 621
    },
    "id": "qvVBKLk8t9E1",
    "outputId": "e89adde8-bb9d-4e12-be13-203afe1b20d0"
   },
   "outputs": [
    {
     "data": {
      "image/png": "[encoded data removed]",
      "text/plain": [
       "<Figure size 1152x720 with 3 Axes>"
      ]
     },
     "metadata": {
      "needs_background": "light",
      "tags": []
     },
     "output_type": "display_data"
    }
   ],
   "source": [
    "plt.figure(figsize=(16,10))\n",
    "plt.subplot(2,2,1)\n",
    "plt.plot(history_4.history['val_accuracy'], color='darkgreen', label='val_acc')\n",
    "plt.plot(history_4.history['accuracy'], color='black', label='train_acc')\n",
    "plt.title('Less Pooling Layer')\n",
    "plt.legend(loc='lower right')\n",
    "plt.xlabel(\"Number of Epoch\")\n",
    "plt.ylabel(\"Accuracy\")\n",
    "\n",
    "plt.subplot(2,2,2)\n",
    "plt.plot(history_5.history['val_accuracy'], color='brown', label='val_acc')\n",
    "plt.plot(history_5.history['accuracy'], color='black', label='train_acc')\n",
    "plt.title('More Neuron')\n",
    "plt.legend(loc='lower right')\n",
    "plt.xlabel(\"Number of Epoch\")\n",
    "plt.ylabel(\"Accuracy\")\n",
    "\n",
    "plt.subplot(2,2,3)\n",
    "plt.plot(history_6.history['val_accuracy'], color='red', label='val_acc')\n",
    "plt.plot(history_6.history['accuracy'], color='black', label='train_acc')\n",
    "plt.title('Extra Hidden Layer')\n",
    "plt.legend(loc='lower right');\n",
    "plt.xlabel(\"Number of Epoch\")\n",
    "plt.ylabel(\"Accuracy\")\n",
    "\n",
    "plt.subplots_adjust(wspace=0.30, hspace=0.35)"
   ]
  },
  {
   "cell_type": "code",
   "execution_count": null,
   "metadata": {
    "colab": {
     "base_uri": "https://localhost:8080/",
     "height": 254
    },
    "id": "CsQdsOZx2LD1",
    "outputId": "74d359f5-6724-43f1-8f9a-a58425e6f196"
   },
   "outputs": [
    {
     "data": {
      "text/html": [
       "<div>\n",
       "<style scoped>\n",
       "    .dataframe tbody tr th:only-of-type {\n",
       "        vertical-align: middle;\n",
       "    }\n",
       "\n",
       "    .dataframe tbody tr th {\n",
       "        vertical-align: top;\n",
       "    }\n",
       "\n",
       "    .dataframe thead th {\n",
       "        text-align: right;\n",
       "    }\n",
       "</style>\n",
       "<table border=\"1\" class=\"dataframe\">\n",
       "  <thead>\n",
       "    <tr style=\"text-align: right;\">\n",
       "      <th></th>\n",
       "      <th>Methods</th>\n",
       "      <th>Accuracy</th>\n",
       "    </tr>\n",
       "  </thead>\n",
       "  <tbody>\n",
       "    <tr>\n",
       "      <th>0</th>\n",
       "      <td>Without Dropout/BatchNorm/DataAug</td>\n",
       "      <td>0.7700</td>\n",
       "    </tr>\n",
       "    <tr>\n",
       "      <th>1</th>\n",
       "      <td>Without Dropout/BatchNorm, With DataAug</td>\n",
       "      <td>0.8321</td>\n",
       "    </tr>\n",
       "    <tr>\n",
       "      <th>2</th>\n",
       "      <td>Without Dropout, With BatchNorm/DataAug</td>\n",
       "      <td>0.8419</td>\n",
       "    </tr>\n",
       "    <tr>\n",
       "      <th>3</th>\n",
       "      <td>With Dropout/BatchNorm/DataAug</td>\n",
       "      <td>0.8713</td>\n",
       "    </tr>\n",
       "    <tr>\n",
       "      <th>4</th>\n",
       "      <td>Less Pooling Layer</td>\n",
       "      <td>0.8756</td>\n",
       "    </tr>\n",
       "    <tr>\n",
       "      <th>5</th>\n",
       "      <td>More Neuron</td>\n",
       "      <td>0.8671</td>\n",
       "    </tr>\n",
       "    <tr>\n",
       "      <th>6</th>\n",
       "      <td>Extra Hidden Layer</td>\n",
       "      <td>0.8741</td>\n",
       "    </tr>\n",
       "  </tbody>\n",
       "</table>\n",
       "</div>"
      ],
      "text/plain": [
       "                                   Methods  Accuracy\n",
       "0        Without Dropout/BatchNorm/DataAug    0.7700\n",
       "1  Without Dropout/BatchNorm, With DataAug    0.8321\n",
       "2  Without Dropout, With BatchNorm/DataAug    0.8419\n",
       "3           With Dropout/BatchNorm/DataAug    0.8713\n",
       "4                       Less Pooling Layer    0.8756\n",
       "5                              More Neuron    0.8671\n",
       "6                       Extra Hidden Layer    0.8741"
      ]
     },
     "execution_count": 64,
     "metadata": {
      "tags": []
     },
     "output_type": "execute_result"
    }
   ],
   "source": [
    "methods = [\"Without Dropout/BatchNorm/DataAug\", \n",
    "           \"Without Dropout/BatchNorm, With DataAug\", \n",
    "           \"Without Dropout, With BatchNorm/DataAug\", \n",
    "           \"With Dropout/BatchNorm/DataAug\",\n",
    "           \"Less Pooling Layer\",\n",
    "           \"More Neuron\",\n",
    "           \"Extra Hidden Layer\"]\n",
    "accuracy_test = [modelTest,\n",
    "                 model_1Test,\n",
    "                 model_2Test,\n",
    "                 model_3Test,\n",
    "                 model_4Test,\n",
    "                 model_5Test,\n",
    "                 model_6Test]\n",
    "                 \n",
    "dictMethods = {'Methods':methods,'Accuracy':accuracy_test}\n",
    "accuracy_frame = pd.DataFrame(dictMethods)\n",
    "accuracy_frame\n"
   ]
  },
  {
   "cell_type": "code",
   "execution_count": null,
   "metadata": {
    "colab": {
     "base_uri": "https://localhost:8080/",
     "height": 388
    },
    "id": "37fmU_q_2LBM",
    "outputId": "309aee8d-9863-48e3-9db2-84131c0ea252"
   },
   "outputs": [
    {
     "data": {
      "image/png": "[encoded data removed]",
      "text/plain": [
       "<Figure size 864x432 with 1 Axes>"
      ]
     },
     "metadata": {
      "needs_background": "light",
      "tags": []
     },
     "output_type": "display_data"
    }
   ],
   "source": [
    "plt.figure(figsize=(12, 6))\n",
    "sns.barplot(y='Methods',x='Accuracy',data=accuracy_frame);"
   ]
  },
  {
   "cell_type": "code",
   "execution_count": null,
   "metadata": {
    "id": "pqRy2b-92K-l"
   },
   "outputs": [],
   "source": []
  },
  {
   "cell_type": "code",
   "execution_count": null,
   "metadata": {
    "id": "wn7SnNaA2K7r"
   },
   "outputs": [],
   "source": []
  }
 ],
 "metadata": {
  "accelerator": "GPU",
  "colab": {
   "collapsed_sections": [],
   "name": "CIFAR10_karşılaştırmalıSEABORN.ipynb",
   "provenance": [],
   "toc_visible": true
  },
  "kernelspec": {
   "display_name": "Python 3",
   "language": "python",
   "name": "python3"
  },
  "language_info": {
   "codemirror_mode": {
    "name": "ipython",
    "version": 3
   },
   "file_extension": ".py",
   "mimetype": "text/x-python",
   "name": "python",
   "nbconvert_exporter": "python",
   "pygments_lexer": "ipython3",
   "version": "3.7.6"
  }
 },
 "nbformat": 4,
 "nbformat_minor": 4
}
